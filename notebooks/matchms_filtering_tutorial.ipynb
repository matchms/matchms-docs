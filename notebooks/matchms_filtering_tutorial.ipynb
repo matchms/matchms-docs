{
 "cells": [
  {
   "cell_type": "markdown",
   "id": "ef28ad4e-eb0d-40cc-be03-84f77f3f2a87",
   "metadata": {},
   "source": [
    "# Introduction to matchms\n",
    "\n",
    "`matchms` is an open-source Python library to handle, process, and compare MS/MS spectra. It is particularly geared towards large-scale similarity computations and metadata harmonization and filtering. In addition, matchms is intended to serve as a hub for developing new computational tools on top of it.\n",
    "\n",
    "Some tools which are build on top of matchms:\n",
    "\n",
    "+ [`Spec2Vec`](https://github.com/iomega/spec2vec) an alternative machine-learning spectral similarity score that can simply be installed by `pip install spec2vec` and be imported as `from spec2vec import Spec2Vec` following the same API as the scores in `matchms.similarity`.\n",
    "\n",
    "+ [`MS2DeepScore`](https://github.com/matchms/ms2deepscore) a supervised, deep-learning based spectral similarity score that can simply be installed by `pip install ms2deepscore` and be imported as `from ms2deepscore import MS2DeepScore` following the same API as the scores in `matchms.similarity`.\n",
    "\n",
    "+ [`MS2Query`](https://github.com/iomega/ms2query) Reliable and fast MS/MS spectral-based analogue search, running on top of matchms.\n",
    "\n",
    "+ [`memo`](https://github.com/mandelbrot-project/memo) a method allowing a Retention Time (RT) agnostic alignment of metabolomics samples using the fragmentation spectra (MS2) of their constituents.\n",
    "\n",
    "+ [Fermo](https://github.com/mmzdouc/FERMO) A dashboard app to integrate LC-MS(/MS) data with quantitative biological data and other metadata.\n",
    "\n",
    "+ [SpecXplore](https://github.com/kevinmildau/specXplore) Interactive and adjustable mass-spectral data exploration\n",
    "\n",
    "The source code of `matchms` is on GitHub --> https://github.com/matchms/matchms\n",
    "This is also where you can interact with the developers of the tool (e.g., report problems, suggest new features, or: contribute yourself!)."
   ]
  },
  {
   "cell_type": "markdown",
   "id": "c1607906-9ef7-46d5-b2f6-7975687587b5",
   "metadata": {},
   "source": [
    "## Filtering and cleaning spectra with matchms\n",
    "This notebooks focuses on the cleaning and harmonizing of metadata using matchms \n",
    "\n",
    "Mass spectra come in many different formats and level of qualities. Matchms can help you to: \n",
    "- Harmonize metadata\n",
    "- Derive missing metadata\n",
    "- Remove spectra with mismatching metadata\n",
    "\n",
    "Matchms filters are designed to be easy to run default pipelines, while allowing flexibility and good reproducibiliy. "
   ]
  },
  {
   "cell_type": "markdown",
   "id": "ded2e86c-39b2-4438-bde5-8902b6ad23bc",
   "metadata": {},
   "source": [
    "# Getting started"
   ]
  },
  {
   "cell_type": "markdown",
   "id": "8e49826d-3580-4c96-a747-00c5a3446d38",
   "metadata": {},
   "source": [
    "First install matchms (if you didn't do this already)"
   ]
  },
  {
   "cell_type": "code",
   "execution_count": null,
   "id": "36169d7e-b8d8-42c4-8a9c-5a740a55afa8",
   "metadata": {},
   "outputs": [],
   "source": [
    "!pip install matchms"
   ]
  },
  {
   "cell_type": "markdown",
   "id": "432f90e5-7538-4fac-95d4-b18c589e1827",
   "metadata": {},
   "source": [
    "### Loading in spectra\n",
    "Matchms is able to work with many of the common open source formats, like: mgf, json, msp, mzml, mzxml and usi.\n",
    "Below we work with dummy spectra available in [matchms_docs](https://github.com/matchms/matchms-docs). But feel free to use your own spectra instead. "
   ]
  },
  {
   "cell_type": "code",
   "execution_count": 4,
   "id": "2528ae1b-a496-4c24-b632-a20591d341e9",
   "metadata": {},
   "outputs": [],
   "source": [
    "from matchms.importing.load_spectra import load_spectra\n",
    "spectra = list(load_spectra(\"../data/pesticides.mgf\"))"
   ]
  },
  {
   "cell_type": "markdown",
   "id": "8a1c5060-621b-4ddf-85e3-ace0b077d557",
   "metadata": {},
   "source": [
    "Matchms spectra are stored as matchms objects, which makes it easy to access all information of spectra"
   ]
  },
  {
   "cell_type": "markdown",
   "id": "523c78d5-47ee-4abc-853c-c343dace3f76",
   "metadata": {},
   "source": [
    "## Exploring the spectrum objects"
   ]
  },
  {
   "cell_type": "markdown",
   "id": "3bc473a7-8420-41a2-aa3b-688ef9332c98",
   "metadata": {},
   "source": [
    "To get the number of spectra in the list of spectra:"
   ]
  },
  {
   "cell_type": "code",
   "execution_count": 7,
   "id": "e04cbc66-12ed-4708-802e-40e82956d5d6",
   "metadata": {},
   "outputs": [
    {
     "data": {
      "text/plain": [
       "76"
      ]
     },
     "execution_count": 7,
     "metadata": {},
     "output_type": "execute_result"
    }
   ],
   "source": [
    "len(spectra)"
   ]
  },
  {
   "cell_type": "markdown",
   "id": "5f5cf3c2-df5c-4a01-9017-bb98565ac209",
   "metadata": {},
   "source": [
    "To select the first spectrum:"
   ]
  },
  {
   "cell_type": "code",
   "execution_count": 8,
   "id": "2269b6cf-f55a-48d7-a650-a214b5781df8",
   "metadata": {},
   "outputs": [
    {
     "data": {
      "text/plain": [
       "Spectrum(precursor m/z=183.06, 53 fragments between 70.8 and 202.3)"
      ]
     },
     "execution_count": 8,
     "metadata": {},
     "output_type": "execute_result"
    }
   ],
   "source": [
    "spectra[0]"
   ]
  },
  {
   "cell_type": "markdown",
   "id": "df994d85-e833-4f2f-8502-1f6f11b7da92",
   "metadata": {},
   "source": [
    "To ge the mz values of the first spectrum"
   ]
  },
  {
   "cell_type": "code",
   "execution_count": 9,
   "id": "49dad551-b6d7-43b1-aed8-f1dcfc85a483",
   "metadata": {},
   "outputs": [
    {
     "data": {
      "text/plain": [
       "array([ 70.786774,  72.976173,  73.493057,  73.515923,  74.17305 ,\n",
       "        75.004799,  77.80809 ,  82.050003,  82.620819,  82.860512,\n",
       "        88.244919,  89.454147,  94.881096,  94.917038,  94.918587,\n",
       "        94.993851, 102.743492, 106.645241, 106.876747, 109.907501,\n",
       "       112.186974, 112.985817, 113.004906, 115.000427, 115.333664,\n",
       "       116.995949, 117.046104, 117.763412, 122.933907, 125.587662,\n",
       "       126.956421, 133.029556, 133.420456, 133.435806, 136.894592,\n",
       "       138.90712 , 138.965378, 141.046158, 142.99292 , 142.995346,\n",
       "       146.785355, 154.053802, 154.951416, 154.992584, 155.061676,\n",
       "       163.001526, 170.366013, 182.987579, 183.007996, 183.056702,\n",
       "       183.121933, 190.211334, 202.308212])"
      ]
     },
     "execution_count": 9,
     "metadata": {},
     "output_type": "execute_result"
    }
   ],
   "source": [
    "spectra[0].peaks.mz"
   ]
  },
  {
   "cell_type": "markdown",
   "id": "336da3cb-5dc3-4b63-aaa1-f05c799a1967",
   "metadata": {},
   "source": [
    "and the intensities"
   ]
  },
  {
   "cell_type": "code",
   "execution_count": 10,
   "id": "ecebffd6-40b4-48a8-8fda-68c716954f1b",
   "metadata": {},
   "outputs": [
    {
     "data": {
      "text/plain": [
       "array([2.13612045e+02, 2.41782242e+02, 2.10330109e+02, 2.11937332e+02,\n",
       "       2.09306686e+02, 3.13500000e+02, 2.10065475e+02, 2.16289841e+02,\n",
       "       2.61580231e+02, 2.22143372e+02, 2.09090591e+02, 2.29945343e+02,\n",
       "       2.19268311e+02, 1.09645889e+04, 4.62001892e+02, 3.22640625e+02,\n",
       "       2.37246567e+02, 2.49806686e+02, 2.69230896e+02, 2.69221008e+02,\n",
       "       2.37601974e+02, 2.10057617e+03, 2.36479034e+02, 1.16422888e+03,\n",
       "       2.67863190e+02, 5.87184668e+03, 1.94295886e+03, 2.27911606e+02,\n",
       "       2.68506836e+02, 2.59168152e+02, 3.19400940e+02, 4.31949585e+02,\n",
       "       2.31658493e+02, 2.78857513e+02, 4.13464294e+02, 4.37397510e+03,\n",
       "       3.30018127e+02, 3.65302460e+02, 8.55966187e+02, 1.03051746e+03,\n",
       "       2.72870209e+02, 3.68399414e+03, 4.43910065e+02, 1.05579919e+03,\n",
       "       1.47161031e+05, 2.38376001e+03, 2.83286346e+02, 1.70916406e+03,\n",
       "       5.18744336e+03, 2.85898938e+05, 4.48362885e+02, 2.44807159e+02,\n",
       "       3.27976257e+02])"
      ]
     },
     "execution_count": 10,
     "metadata": {},
     "output_type": "execute_result"
    }
   ],
   "source": [
    "spectra[0].peaks.intensities"
   ]
  },
  {
   "cell_type": "markdown",
   "id": "cbe67919-0c42-4a93-8c4f-c8e131368b53",
   "metadata": {},
   "source": [
    "And the available metadata"
   ]
  },
  {
   "cell_type": "code",
   "execution_count": 13,
   "id": "8e82fddc-b045-469e-9094-594b4a13fb3c",
   "metadata": {},
   "outputs": [
    {
     "data": {
      "text/plain": [
       "{'charge': 1,\n",
       " 'ionmode': 'negative',\n",
       " 'smiles': 'C1=CC=C2C(=C1)NC(=N2)C3=CC=CO3',\n",
       " 'inchi': 'InChI=1S/C11H8N2O/c1-2-5-9-8(4-1)12-11(13-9)10-6-3-7-14-10/h1-7H,(H,12,13)',\n",
       " 'pubmed': 'n/a',\n",
       " 'scans': '675',\n",
       " 'ms_level': '2',\n",
       " 'instrument_type': '-Q-Exactive Plus Orbitrap Res 70k',\n",
       " 'file_name': 'Pesticide_Mix6_neg.mzXML',\n",
       " 'peptide_sequence': '*..*',\n",
       " 'organism_name': 'GNPS-COLLECTIONS-PESTICIDES-NEGATIVE',\n",
       " 'compound_name': 'Pesticide6_Fuberidazole_C11H8N2O_2-(2-Furyl)-1H-benzimidazole M-H',\n",
       " 'principal_investigator': 'Dorrestein/Touboul',\n",
       " 'data_collector': 'lfnothias',\n",
       " 'submit_user': 'mwang87',\n",
       " 'confidence': '1',\n",
       " 'spectrum_id': 'CCMSLIB00001058235',\n",
       " 'precursor_mz': 183.057}"
      ]
     },
     "execution_count": 13,
     "metadata": {},
     "output_type": "execute_result"
    }
   ],
   "source": [
    "spectra[0].metadata"
   ]
  },
  {
   "cell_type": "markdown",
   "id": "a2b8a1a5-6a24-4d86-a141-dc97b562dadf",
   "metadata": {},
   "source": [
    "To get specific metadata fields you can run spectrum.get()"
   ]
  },
  {
   "cell_type": "code",
   "execution_count": 15,
   "id": "45ebb597-f0d9-47d6-b2e9-173e3723e574",
   "metadata": {},
   "outputs": [
    {
     "data": {
      "text/plain": [
       "'negative'"
      ]
     },
     "execution_count": 15,
     "metadata": {},
     "output_type": "execute_result"
    }
   ],
   "source": [
    "spectra[0].get(\"ionmode\")"
   ]
  },
  {
   "cell_type": "markdown",
   "id": "7482afab-3c8d-49ea-89af-f32e7532e393",
   "metadata": {},
   "source": [
    "Spectra can also easily be plotted"
   ]
  },
  {
   "cell_type": "code",
   "execution_count": 11,
   "id": "0a20252e-4a60-4b9a-893b-605105e17575",
   "metadata": {},
   "outputs": [
    {
     "data": {
      "text/plain": [
       "(<Figure size 800x600 with 1 Axes>,\n",
       " <Axes: title={'center': 'Pesticide6_Fuberidazole_C11H8N2O_2-(2-Furyl)-1H-benzimidazole M-H'}, xlabel='m/z', ylabel='Intensity'>)"
      ]
     },
     "execution_count": 11,
     "metadata": {},
     "output_type": "execute_result"
    },
    {
     "data": {
      "image/png": "[encoded data removed]",
      "text/plain": [
       "<Figure size 800x600 with 1 Axes>"
      ]
     },
     "metadata": {},
     "output_type": "display_data"
    }
   ],
   "source": [
    "spectra[0].plot(figsize=(4,3))"
   ]
  },
  {
   "cell_type": "markdown",
   "id": "7c87ea9e-e187-4678-b089-5dbd41305d36",
   "metadata": {},
   "source": [
    "Or plotted against each other"
   ]
  },
  {
   "cell_type": "code",
   "execution_count": 12,
   "id": "1c3d885c-beb9-489f-a199-367ed015e4a2",
   "metadata": {},
   "outputs": [
    {
     "data": {
      "text/plain": [
       "(<Figure size 800x600 with 1 Axes>,\n",
       " <Axes: title={'center': 'Spectrum comparison'}, xlabel='m/z', ylabel='Intensity'>)"
      ]
     },
     "execution_count": 12,
     "metadata": {},
     "output_type": "execute_result"
    },
    {
     "data": {
      "image/png": "[encoded data removed]",
      "text/plain": [
       "<Figure size 800x600 with 1 Axes>"
      ]
     },
     "metadata": {},
     "output_type": "display_data"
    }
   ],
   "source": [
    "spectra[0].plot_against(spectra[8], figsize=(4,3))"
   ]
  },
  {
   "cell_type": "markdown",
   "id": "f730cf16-d2a0-4271-870d-6adb1c94bb39",
   "metadata": {},
   "source": [
    "## Cleaning and filtering spectra by using the matchms cleaning pipeline\n",
    "Most of the time you will actually have to do more standard things, for this matchms has build in functionality.\n",
    "\n",
    "`matchms` comes with many filtering functions (in `matchms.filtering`).\n",
    "In general, there are filters with focus on the **metadata**. For instance to correct, add, edit, harmonize specific metadata fields. And there are filters for the **fragments**, for instance to remove small peaks, normalize peak intensities etc.\n",
    "\n",
    "Here, we will apply:\n",
    "- Normalize peak intensities (to max=1.0)\n",
    "- Derive the adduct from the name field\n",
    "- Derive the formula from the name\n",
    "\n",
    "**Note** This is not a complete pipeline we would recommend to run, just for illustrative purposes\n",
    "\n",
    "All filtering options we have available are stored in the folder https://github.com/matchms/matchms/tree/master/matchms/filtering/metadata_processing"
   ]
  },
  {
   "cell_type": "code",
   "execution_count": 35,
   "id": "ace6c165-8797-4834-8f71-591f1f68b24b",
   "metadata": {},
   "outputs": [
    {
     "name": "stdout",
     "output_type": "stream",
     "text": [
      "2024-06-10 11:46:18,138:WARNING:matchms:Pipeline:The order of the filters has been changed compared to the Yaml file.\n",
      "2024-06-10 11:46:18,139:WARNING:matchms:Pipeline:The order of the filters has been changed compared to the Yaml file.\n",
      "2024-06-10 11:46:18,140:WARNING:matchms:Pipeline:No logging file was defined.Logging messages will not be written to file.\n"
     ]
    },
    {
     "name": "stderr",
     "output_type": "stream",
     "text": [
      "Processing spectrums: 76it [00:00, 322.89it/s]\n"
     ]
    }
   ],
   "source": [
    "import os\n",
    "from matchms.Pipeline import Pipeline, create_workflow\n",
    "import matchms.filtering as msfilters\n",
    "workflow = create_workflow(\n",
    "    query_filters=[msfilters.normalize_intensities,\n",
    "                   msfilters.derive_adduct_from_name,\n",
    "                   msfilters.derive_formula_from_name,\n",
    "                  (msfilters.require_minimum_number_of_peaks, {\"n_required\": 20})])\n",
    "pipeline = Pipeline(workflow)\n",
    "processing_report = pipeline.run(\"../data/pesticides.mgf\")\n",
    "cleaned_spectra = pipeline.spectrums_queries"
   ]
  },
  {
   "cell_type": "markdown",
   "id": "69359097-2d52-420b-9320-d6191ca7c663",
   "metadata": {},
   "source": [
    "### processing report\n",
    "The processing report gives an overview of what happened to the spectra.\n",
    "It shows (if you used our example spectra) that:\n",
    "- 3 spectra were removed because they had less than 20 peaks.\n",
    "- For 76 spectra the adduct was derived from the compound name. \n",
    "- For 76 spectra the intensities were normalized. \n",
    "- The derive_fromula_from_name filter had no effect on the spectra"
   ]
  },
  {
   "cell_type": "markdown",
   "id": "83293678-ea24-4d74-9e74-2533e80a61c1",
   "metadata": {},
   "source": [
    "print(processing_report)"
   ]
  },
  {
   "cell_type": "markdown",
   "id": "f90ab130-88e4-41a5-ba89-dac68bdf4dae",
   "metadata": {},
   "source": [
    "To see what happened we can print some of the metadata before and after the processing."
   ]
  },
  {
   "cell_type": "code",
   "execution_count": 40,
   "id": "5fff6a64-bca6-442d-8e46-2abf2dd9d19c",
   "metadata": {},
   "outputs": [
    {
     "name": "stdout",
     "output_type": "stream",
     "text": [
      "Adduct field before processing:  None\n",
      "Compound name field before processing:  Pesticide6_Fuberidazole_C11H8N2O_2-(2-Furyl)-1H-benzimidazole M-H\n",
      "Adduct field after processing:  [M-H]-\n",
      "Compound name field after processing:  Pesticide6_Fuberidazole_C11H8N2O_2-(2-Furyl)-1H-benzimidazole\n"
     ]
    }
   ],
   "source": [
    "print(\"Adduct field before processing: \", spectra[0].get(\"adduct\")) \n",
    "print(\"Compound name field before processing: \", spectra[0].get(\"compound_name\")) \n",
    "print(\"Adduct field after processing: \", cleaned_spectra[0].get(\"adduct\")) \n",
    "print(\"Compound name field after processing: \", cleaned_spectra[0].get(\"compound_name\")) "
   ]
  },
  {
   "cell_type": "markdown",
   "id": "c38806ec-57dd-42b6-8b3d-575703a9e919",
   "metadata": {},
   "source": [
    "Moving the adduct to a separate field, makes the metadata computer readible. "
   ]
  },
  {
   "cell_type": "markdown",
   "id": "ad24b24d-e27b-4bc6-9c6b-5122ebe93c75",
   "metadata": {},
   "source": [
    "### Flexibility of matchms pipeline\n",
    "Matchms comes with many predefined filters and there are constantly new filters added by the community. However, you could have specific needs for your spectra, which are not natively available in matchms. \n",
    "A new filter can easily be added by writing a custum function and adding it to the matchms pipeline. If you think this filter would be usefull for the rest of the community, please create an [issue](https://github.com/matchms/matchms/issues) or even better a pull request with the suggested code. In this way you will become part of the matchms developer team as well :) \n",
    "\n",
    "Here we give a simple example of how you could add a filter to the pipeline. This filter should allow you to only select spectra that contain a specific peak. "
   ]
  },
  {
   "cell_type": "code",
   "execution_count": 41,
   "id": "f83512c6-c2ab-48da-acdb-99575e563377",
   "metadata": {},
   "outputs": [],
   "source": [
    "def select_spectra_containing_fragment(spectrum_in, fragment_of_interest, tolerance):\n",
    "  for fragment_mz, intensity in spectrum_in.peaks:\n",
    "    # Check if the fragment is close to the fragment_of_interest\n",
    "    if fragment_mz > fragment_of_interest - tolerance and  fragment_mz < fragment_of_interest + tolerance:\n",
    "      return spectrum_in\n",
    "  return None\n"
   ]
  },
  {
   "cell_type": "code",
   "execution_count": 45,
   "id": "6aed25ad-c4b9-4240-a7f0-dcc446141e65",
   "metadata": {},
   "outputs": [
    {
     "name": "stdout",
     "output_type": "stream",
     "text": [
      "2024-06-10 11:55:54,843:WARNING:matchms:Pipeline:The order of the filters has been changed compared to the Yaml file.\n",
      "2024-06-10 11:55:54,843:WARNING:matchms:Pipeline:The order of the filters has been changed compared to the Yaml file.\n",
      "2024-06-10 11:55:54,859:WARNING:matchms:Pipeline:No logging file was defined.Logging messages will not be written to file.\n"
     ]
    },
    {
     "name": "stderr",
     "output_type": "stream",
     "text": [
      "Processing spectrums: 76it [00:00, 294.69it/s]"
     ]
    },
    {
     "name": "stdout",
     "output_type": "stream",
     "text": [
      "----- Spectrum Processing Report -----\n",
      "Number of spectrums processed: 76\n",
      "Number of spectrums removed: 52\n",
      "Changes during processing:\n",
      "                                    removed spectra  changed metadata  changed mass spectrum\n",
      "filter                                                                                      \n",
      "select_spectra_containing_fragment               49                 0                      0\n",
      "require_minimum_number_of_peaks                   3                 0                      0\n",
      "derive_adduct_from_name                           0                76                      0\n",
      "normalize_intensities                             0                 0                     76\n",
      "derive_formula_from_name                          0                 0                      0\n"
     ]
    },
    {
     "name": "stderr",
     "output_type": "stream",
     "text": [
      "\n"
     ]
    }
   ],
   "source": [
    "import os\n",
    "from matchms.Pipeline import Pipeline, create_workflow\n",
    "import matchms.filtering as msfilters\n",
    "workflow = create_workflow(\n",
    "    query_filters=[msfilters.normalize_intensities,\n",
    "                   msfilters.derive_adduct_from_name,\n",
    "                   msfilters.derive_formula_from_name,\n",
    "                  (msfilters.require_minimum_number_of_peaks, {\"n_required\": 20})])\n",
    "pipeline = Pipeline(workflow)\n",
    "pipeline.processing_queries.parse_and_add_filter((select_spectra_containing_fragment,\n",
    "                                                  {\"fragment_of_interest\": 155.0, \"tolerance\": 1.0}))\n",
    "processing_report = pipeline.run(\"../data/pesticides.mgf\")\n",
    "cleaned_spectra = pipeline.spectrums_queries\n",
    "print(processing_report)"
   ]
  },
  {
   "cell_type": "markdown",
   "id": "adf79f90-4d50-41c5-9add-361c03da5376",
   "metadata": {},
   "source": [
    "Now only the spectra are kept that have a fragment close to 155 Da. For instance:"
   ]
  },
  {
   "cell_type": "code",
   "execution_count": 49,
   "id": "6a3d5616-6388-4088-bcf1-8a7c93d64e4b",
   "metadata": {},
   "outputs": [
    {
     "data": {
      "text/plain": [
       "(<Figure size 1600x1200 with 1 Axes>,\n",
       " <Axes: title={'center': \"Pesticide3_Fluometuron_C10H11F3N2O_Urea, N,N-dimethyl-N'-[3-(trifluoromethyl)phenyl]-\"}, xlabel='m/z', ylabel='Intensity'>)"
      ]
     },
     "execution_count": 49,
     "metadata": {},
     "output_type": "execute_result"
    },
    {
     "data": {
      "image/png": "[encoded data removed]",
      "text/plain": [
       "<Figure size 1600x1200 with 1 Axes>"
      ]
     },
     "metadata": {},
     "output_type": "display_data"
    }
   ],
   "source": [
    "cleaned_spectra[1].plot()"
   ]
  },
  {
   "cell_type": "markdown",
   "id": "f24be506-850c-42fe-8594-5a2fbb28f5b0",
   "metadata": {},
   "source": [
    "## Default pipelines\n",
    "To make it easier we have created predefined pipelines for different use cases. \n",
    "Please still check if the invidual filters do what is applicable for your specific use case.\n",
    "\n",
    "Here we give the example of a pipeline used for cleaning annotated spectrum libraries.\n",
    "This could alternatively also be run by specifying all the separate filters. "
   ]
  },
  {
   "cell_type": "code",
   "execution_count": 52,
   "id": "398aecc1-5c49-4d43-990e-574227084761",
   "metadata": {},
   "outputs": [
    {
     "name": "stdout",
     "output_type": "stream",
     "text": [
      "2024-06-10 13:06:39,297:WARNING:matchms:Pipeline:The order of the filters has been changed compared to the Yaml file.\n",
      "2024-06-10 13:06:39,299:WARNING:matchms:Pipeline:The order of the filters has been changed compared to the Yaml file.\n",
      "2024-06-10 13:06:39,301:WARNING:matchms:Pipeline:No logging file was defined.Logging messages will not be written to file.\n"
     ]
    },
    {
     "name": "stderr",
     "output_type": "stream",
     "text": [
      "Processing spectrums: 76it [00:02, 30.18it/s]"
     ]
    },
    {
     "name": "stdout",
     "output_type": "stream",
     "text": [
      "----- Spectrum Processing Report -----\n",
      "Number of spectrums processed: 76\n",
      "Number of spectrums removed: 8\n",
      "Changes during processing:\n",
      "                                                  removed spectra  changed metadata  changed mass spectrum\n",
      "filter                                                                                                    \n",
      "require_matching_adduct_precursor_mz_parent_mass                8                 0                      0\n",
      "derive_adduct_from_name                                         0                76                      0\n",
      "add_retention_index                                             0                76                      0\n",
      "add_retention_time                                              0                76                      0\n",
      "correct_charge                                                  0                76                      0\n",
      "harmonize_undefined_inchikey                                    0                76                      0\n",
      "add_parent_mass                                                 0                76                      0\n",
      "derive_inchikey_from_inchi                                      0                76                      0\n",
      "harmonize_undefined_inchi                                       0                 3                      0\n",
      "derive_inchi_from_smiles                                        0                 3                      0\n",
      "clean_adduct                                                    0                 1                      0\n",
      "repair_parent_mass_from_smiles                                  0                 9                      0\n",
      "repair_adduct_based_on_parent_mass                              0                 1                      0\n",
      "normalize_intensities                                           0                 0                     68\n",
      "require_correct_ms_level                                        0                 0                      0\n",
      "make_charge_int                                                 0                 0                      0\n",
      "add_compound_name                                               0                 0                      0\n",
      "derive_formula_from_name                                        0                 0                      0\n",
      "clean_compound_name                                             0                 0                      0\n",
      "interpret_pepmass                                               0                 0                      0\n",
      "add_precursor_mz                                                0                 0                      0\n",
      "derive_ionmode                                                  0                 0                      0\n",
      "require_precursor_mz                                            0                 0                      0\n",
      "harmonize_undefined_smiles                                      0                 0                      0\n",
      "repair_inchi_inchikey_smiles                                    0                 0                      0\n",
      "derive_annotation_from_compound_name                            0                 0                      0\n",
      "derive_smiles_from_inchi                                        0                 0                      0\n",
      "repair_smiles_of_salts                                          0                 0                      0\n",
      "repair_parent_mass_is_molar_mass                                0                 0                      0\n",
      "repair_not_matching_annotation                                  0                 0                      0\n",
      "require_valid_annotation                                        0                 0                      0\n",
      "require_correct_ionmode                                         0                 0                      0\n",
      "require_parent_mass_match_smiles                                0                 0                      0\n",
      "require_matching_adduct_and_ionmode                             0                 0                      0\n"
     ]
    },
    {
     "name": "stderr",
     "output_type": "stream",
     "text": [
      "\n"
     ]
    }
   ],
   "source": [
    "import os\n",
    "from matchms.Pipeline import Pipeline, create_workflow\n",
    "import matchms.filtering as msfilters\n",
    "from matchms.filtering.default_pipelines import BASIC_FILTERS, DEFAULT_FILTERS, LIBRARY_CLEANING\n",
    "\n",
    "workflow = create_workflow(\n",
    "    query_filters=LIBRARY_CLEANING)\n",
    "pipeline = Pipeline(workflow)\n",
    "processing_report = pipeline.run(\"../data/pesticides.mgf\")\n",
    "cleaned_spectra = pipeline.spectrums_queries\n",
    "print(processing_report)"
   ]
  },
  {
   "cell_type": "markdown",
   "id": "636c3321-bc42-4a8e-b672-a5b5b282828e",
   "metadata": {},
   "source": [
    "## Reproducibility by Yaml file\n",
    "To have a reproducible file for rerunning pipeline a Yaml file can be created, this contains all the matchms filters and their corresponding filters that were run. This makes it easy for sharing in materials and methods, but also to reproduce previously run pipelines. "
   ]
  },
  {
   "cell_type": "code",
   "execution_count": 58,
   "id": "09fdc4d9-2cb7-497a-aeec-a50464c19d57",
   "metadata": {},
   "outputs": [
    {
     "name": "stdout",
     "output_type": "stream",
     "text": [
      "2024-06-10 13:13:55,718:WARNING:matchms:Pipeline:The order of the filters has been changed compared to the Yaml file.\n",
      "2024-06-10 13:13:55,720:WARNING:matchms:Pipeline:The order of the filters has been changed compared to the Yaml file.\n",
      "2024-06-10 13:13:55,720:WARNING:matchms:Pipeline:No logging file was defined.Logging messages will not be written to file.\n"
     ]
    },
    {
     "name": "stderr",
     "output_type": "stream",
     "text": [
      "Processing spectrums: 76it [00:02, 28.92it/s]\n"
     ]
    }
   ],
   "source": [
    "import os\n",
    "from matchms.Pipeline import Pipeline, create_workflow\n",
    "import matchms.filtering as msfilters\n",
    "from matchms.filtering.default_pipelines import BASIC_FILTERS, DEFAULT_FILTERS, LIBRARY_CLEANING\n",
    "\n",
    "workflow = create_workflow(\n",
    "    yaml_file_name=\"../data/matchms_settings.yaml\", # to save as a yaml file\n",
    "    query_filters=LIBRARY_CLEANING)\n",
    "pipeline = Pipeline(workflow)\n",
    "processing_report = pipeline.run(\"../data/pesticides.mgf\")\n",
    "cleaned_spectra = pipeline.spectrums_queries"
   ]
  },
  {
   "cell_type": "markdown",
   "id": "46ea15a5-5edd-4fb4-bcaf-2accd498d3a0",
   "metadata": {},
   "source": [
    "The yaml file is saved and looks like this:"
   ]
  },
  {
   "cell_type": "code",
   "execution_count": 59,
   "id": "d3c4c989-9eca-4577-a5a9-d46b5368ad63",
   "metadata": {},
   "outputs": [
    {
     "name": "stdout",
     "output_type": "stream",
     "text": [
      "# Matchms pipeline config file \n",
      "# Change and adapt fields where necessary \n",
      "# ==================== \n",
      "query_filters:\n",
      "- - require_correct_ms_level\n",
      "  - required_ms_level: 2\n",
      "- make_charge_int\n",
      "- add_compound_name\n",
      "- - derive_adduct_from_name\n",
      "  - remove_adduct_from_name: true\n",
      "- - derive_formula_from_name\n",
      "  - remove_formula_from_name: true\n",
      "- clean_compound_name\n",
      "- interpret_pepmass\n",
      "- add_precursor_mz\n",
      "- add_retention_index\n",
      "- add_retention_time\n",
      "- derive_ionmode\n",
      "- correct_charge\n",
      "- - require_precursor_mz\n",
      "  - maximum_mz: null\n",
      "    minimum_accepted_mz: 10.0\n",
      "- - harmonize_undefined_inchikey\n",
      "  - aliases: null\n",
      "    undefined: ''\n",
      "- - harmonize_undefined_inchi\n",
      "  - aliases: null\n",
      "    undefined: ''\n",
      "- - harmonize_undefined_smiles\n",
      "  - aliases: null\n",
      "    undefined: ''\n",
      "- repair_inchi_inchikey_smiles\n",
      "- clean_adduct\n",
      "- - add_parent_mass\n",
      "  - estimate_from_adduct: true\n",
      "    estimate_from_charge: true\n",
      "    overwrite_existing_entry: false\n",
      "- - derive_annotation_from_compound_name\n",
      "  - annotated_compound_names_file: null\n",
      "    mass_tolerance: 0.1\n",
      "- derive_smiles_from_inchi\n",
      "- derive_inchi_from_smiles\n",
      "- derive_inchikey_from_inchi\n",
      "- - repair_smiles_of_salts\n",
      "  - mass_tolerance: 0.1\n",
      "- - repair_parent_mass_is_molar_mass\n",
      "  - mass_tolerance: 0.1\n",
      "- repair_not_matching_annotation\n",
      "- require_valid_annotation\n",
      "- - repair_parent_mass_from_smiles\n",
      "  - mass_tolerance: 0.1\n",
      "- - repair_adduct_based_on_parent_mass\n",
      "  - mass_tolerance: 0.1\n",
      "- - require_correct_ionmode\n",
      "  - ion_mode_to_keep: both\n",
      "- - require_parent_mass_match_smiles\n",
      "  - mass_tolerance: 0.1\n",
      "- - require_matching_adduct_precursor_mz_parent_mass\n",
      "  - tolerance: 0.1\n",
      "- require_matching_adduct_and_ionmode\n",
      "- normalize_intensities\n",
      "reference_filters: []\n",
      "score_computations: []\n",
      "\n"
     ]
    }
   ],
   "source": [
    "with open(\"../data/matchms_settings.yaml\", \"r\") as yaml_file:\n",
    "    print(yaml_file.read())"
   ]
  },
  {
   "cell_type": "markdown",
   "id": "e6b45ef2-e9b2-4fd1-98e0-1393bdc76dc6",
   "metadata": {},
   "source": [
    "The yaml file can also easily be used to rerun a pipeline in the exact same way:"
   ]
  },
  {
   "cell_type": "code",
   "execution_count": 61,
   "id": "3b7ddccd-1410-482e-9e45-e63c565dec2f",
   "metadata": {},
   "outputs": [
    {
     "name": "stdout",
     "output_type": "stream",
     "text": [
      "2024-06-10 13:16:49,573:WARNING:matchms:Pipeline:The order of the filters has been changed compared to the Yaml file.\n",
      "2024-06-10 13:16:49,576:WARNING:matchms:Pipeline:The order of the filters has been changed compared to the Yaml file.\n",
      "2024-06-10 13:16:49,576:WARNING:matchms:Pipeline:No logging file was defined.Logging messages will not be written to file.\n"
     ]
    },
    {
     "name": "stderr",
     "output_type": "stream",
     "text": [
      "Processing spectrums: 76it [00:02, 29.27it/s]\n"
     ]
    }
   ],
   "source": [
    "from matchms.yaml_file_functions import load_workflow_from_yaml_file\n",
    "from matchms.Pipeline import Pipeline, create_workflow\n",
    "\n",
    "workflow = load_workflow_from_yaml_file(\"../data/matchms_settings.yaml\")\n",
    "pipeline = Pipeline(workflow)\n",
    "processing_report = pipeline.run(\"../data/pesticides.mgf\")\n"
   ]
  },
  {
   "cell_type": "markdown",
   "id": "4e4e12ff-b939-4d50-9043-6779b1fda75d",
   "metadata": {},
   "source": [
    "# Saving results\n",
    "The cleaned spectra and a logging file (with processing report) can automatically be saved. "
   ]
  },
  {
   "cell_type": "code",
   "execution_count": 66,
   "id": "a8d6772c-b72b-4798-a7ab-9ea4ca5d3564",
   "metadata": {},
   "outputs": [
    {
     "name": "stderr",
     "output_type": "stream",
     "text": [
      "Processing spectrums: 76it [00:02, 25.82it/s]\n"
     ]
    }
   ],
   "source": [
    "from matchms.yaml_file_functions import load_workflow_from_yaml_file\n",
    "from matchms.Pipeline import Pipeline, create_workflow\n",
    "\n",
    "workflow = load_workflow_from_yaml_file(\"../data/matchms_settings.yaml\")\n",
    "pipeline = Pipeline(workflow,\n",
    "                   logging_level=\"INFO\", # Set logging level e.g. INFO, WARNING, ERROR\n",
    "                   logging_file=\"../data/matchms_cleaning.log\") # Set the file where to store the logging\n",
    "\n",
    "processing_report = pipeline.run(\"../data/pesticides.mgf\",\n",
    "                                 cleaned_query_file=\"../data/cleaned_spectra.mgf\") # Set where to save the spectra. \n"
   ]
  },
  {
   "cell_type": "markdown",
   "id": "02ffed0f-04bc-498a-ab7a-0e5de0c8c686",
   "metadata": {},
   "source": [
    "### Logging\n",
    "The logging first prints the settings, followed by detailed logging (can be set less verbose by setting logging_level=\"WARNING\") and ending with the processing report"
   ]
  },
  {
   "cell_type": "code",
   "execution_count": 67,
   "id": "7000f958-9271-4ccf-b2a9-760cf212d1c9",
   "metadata": {},
   "outputs": [
    {
     "name": "stdout",
     "output_type": "stream",
     "text": [
      "--- Processing pipeline query spectra: ---\n",
      "Processing steps:\n",
      "- - require_correct_ms_level\n",
      "  - required_ms_level: 2\n",
      "- make_charge_int\n",
      "- add_compound_name\n",
      "- - derive_adduct_from_name\n",
      "  - remove_adduct_from_name: true\n",
      "- - derive_formula_from_name\n",
      "  - remove_formula_from_name: true\n",
      "- clean_compound_name\n",
      "- interpret_pepmass\n",
      "- add_precursor_mz\n",
      "- add_retention_index\n",
      "- add_retention_time\n",
      "- derive_ionmode\n",
      "- correct_charge\n",
      "- - require_precursor_mz\n",
      "  - maximum_mz: null\n",
      "    minimum_accepted_mz: 10.0\n",
      "- - harmonize_undefined_inchikey\n",
      "  - aliases: null\n",
      "    undefined: ''\n",
      "- - harmonize_undefined_inchi\n",
      "  - aliases: null\n",
      "    undefined: ''\n",
      "- - harmonize_undefined_smiles\n",
      "  - aliases: null\n",
      "    undefined: ''\n",
      "- repair_inchi_inchikey_smiles\n",
      "- clean_adduct\n",
      "- - add_parent_mass\n",
      "  - estimate_from_adduct: true\n",
      "    estimate_from_charge: true\n",
      "    overwrite_existing_entry: false\n",
      "- - derive_annotation_from_compound_name\n",
      "  - annotated_compound_names_file: null\n",
      "    mass_tolerance: 0.1\n",
      "- derive_smiles_from_inchi\n",
      "- derive_inchi_from_smiles\n",
      "- derive_inchikey_from_inchi\n",
      "- - repair_smiles_of_salts\n",
      "  - mass_tolerance: 0.1\n",
      "- - repair_parent_mass_is_molar_mass\n",
      "  - mass_tolerance: 0.1\n",
      "- repair_not_matching_annotation\n",
      "- require_valid_annotation\n",
      "- - repair_parent_mass_from_smiles\n",
      "  - mass_tolerance: 0.1\n",
      "- - repair_adduct_based_on_parent_mass\n",
      "  - mass_tolerance: 0.1\n",
      "- - require_correct_ionmode\n",
      "  - ion_mode_to_keep: both\n",
      "- - require_parent_mass_match_smiles\n",
      "  - mass_tolerance: 0.1\n",
      "- - require_matching_adduct_precursor_mz_parent_mass\n",
      "  - tolerance: 0.1\n",
      "- require_matching_adduct_and_ionmode\n",
      "- normalize_intensities\n",
      "\n",
      "--- Processing pipeline reference spectra: ---\n",
      "Processing steps: []\n",
      "\n",
      "--- Start running matchms pipeline. ---\n",
      "Start time: 2024-06-10 13:22:33.179063\n",
      "--- Importing data ---\n",
      "Loaded query spectra from ../data/pesticides.mgf\n",
      "Reference spectra are equal to the query spectra (is_symmetric = True)\n",
      "--- Processing spectra ---\n",
      "Time: 2024-06-10 13:22:33.180019\n",
      "----- Spectrum Processing Report -----\n",
      "Number of spectrums processed: 76\n",
      "Number of spectrums removed: 8\n",
      "Changes during processing:\n",
      "                                                  removed spectra  changed metadata  changed mass spectrum\n",
      "filter                                                                                                    \n",
      "require_matching_adduct_precursor_mz_parent_mass                8                 0                      0\n",
      "derive_adduct_from_name                                         0                76                      0\n",
      "add_retention_index                                             0                76                      0\n",
      "add_retention_time                                              0                76                      0\n",
      "correct_charge                                                  0                76                      0\n",
      "harmonize_undefined_inchikey                                    0                76                      0\n",
      "add_parent_mass                                                 0                76                      0\n",
      "derive_inchikey_from_inchi                                      0                76                      0\n",
      "harmonize_undefined_inchi                                       0                 3                      0\n",
      "derive_inchi_from_smiles                                        0                 3                      0\n",
      "clean_adduct                                                    0                 1                      0\n",
      "repair_parent_mass_from_smiles                                  0                 9                      0\n",
      "repair_adduct_based_on_parent_mass                              0                 1                      0\n",
      "normalize_intensities                                           0                 0                     68\n",
      "require_correct_ms_level                                        0                 0                      0\n",
      "make_charge_int                                                 0                 0                      0\n",
      "add_compound_name                                               0                 0                      0\n",
      "derive_formula_from_name                                        0                 0                      0\n",
      "clean_compound_name                                             0                 0                      0\n",
      "interpret_pepmass                                               0                 0                      0\n",
      "add_precursor_mz                                                0                 0                      0\n",
      "derive_ionmode                                                  0                 0                      0\n",
      "require_precursor_mz                                            0                 0                      0\n",
      "harmonize_undefined_smiles                                      0                 0                      0\n",
      "repair_inchi_inchikey_smiles                                    0                 0                      0\n",
      "derive_annotation_from_compound_name                            0                 0                      0\n",
      "derive_smiles_from_inchi                                        0                 0                      0\n",
      "repair_smiles_of_salts                                          0                 0                      0\n",
      "repair_parent_mass_is_molar_mass                                0                 0                      0\n",
      "repair_not_matching_annotation                                  0                 0                      0\n",
      "require_valid_annotation                                        0                 0                      0\n",
      "require_correct_ionmode                                         0                 0                      0\n",
      "require_parent_mass_match_smiles                                0                 0                      0\n",
      "require_matching_adduct_and_ionmode                             0                 0                      0\n",
      "--- Computing scores ---\n",
      "--- Pipeline run finised (2024-06-10 13:22:35.951561) ---\n",
      "--- Processing pipeline query spectra: ---\n",
      "Processing steps:\n",
      "- - require_correct_ms_level\n",
      "  - required_ms_level: 2\n",
      "- make_charge_int\n",
      "- add_compound_name\n",
      "- - derive_adduct_from_name\n",
      "  - remove_adduct_from_name: true\n",
      "- - derive_formula_from_name\n",
      "  - remove_formula_from_name: true\n",
      "- clean_compound_name\n",
      "- interpret_pepmass\n",
      "- add_precursor_mz\n",
      "- add_retention_index\n",
      "- add_retention_time\n",
      "- derive_ionmode\n",
      "- correct_charge\n",
      "- - require_precursor_mz\n",
      "  - maximum_mz: null\n",
      "    minimum_accepted_mz: 10.0\n",
      "- - harmonize_undefined_inchikey\n",
      "  - aliases: null\n",
      "    undefined: ''\n",
      "- - harmonize_undefined_inchi\n",
      "  - aliases: null\n",
      "    undefined: ''\n",
      "- - harmonize_undefined_smiles\n",
      "  - aliases: null\n",
      "    undefined: ''\n",
      "- repair_inchi_inchikey_smiles\n",
      "- clean_adduct\n",
      "- - add_parent_mass\n",
      "  - estimate_from_adduct: true\n",
      "    estimate_from_charge: true\n",
      "    overwrite_existing_entry: false\n",
      "- - derive_annotation_from_compound_name\n",
      "  - annotated_compound_names_file: null\n",
      "    mass_tolerance: 0.1\n",
      "- derive_smiles_from_inchi\n",
      "- derive_inchi_from_smiles\n",
      "- derive_inchikey_from_inchi\n",
      "- - repair_smiles_of_salts\n",
      "  - mass_tolerance: 0.1\n",
      "- - repair_parent_mass_is_molar_mass\n",
      "  - mass_tolerance: 0.1\n",
      "- repair_not_matching_annotation\n",
      "- require_valid_annotation\n",
      "- - repair_parent_mass_from_smiles\n",
      "  - mass_tolerance: 0.1\n",
      "- - repair_adduct_based_on_parent_mass\n",
      "  - mass_tolerance: 0.1\n",
      "- - require_correct_ionmode\n",
      "  - ion_mode_to_keep: both\n",
      "- - require_parent_mass_match_smiles\n",
      "  - mass_tolerance: 0.1\n",
      "- - require_matching_adduct_precursor_mz_parent_mass\n",
      "  - tolerance: 0.1\n",
      "- require_matching_adduct_and_ionmode\n",
      "- normalize_intensities\n",
      "\n",
      "2024-06-10 13:23:33,236:WARNING:matchms:Pipeline:The order of the filters has been changed compared to the Yaml file.\n",
      "--- Processing pipeline reference spectra: ---\n",
      "Processing steps: []\n",
      "\n",
      "2024-06-10 13:23:33,238:WARNING:matchms:Pipeline:The order of the filters has been changed compared to the Yaml file.\n",
      "--- Processing pipeline query spectra: ---\n",
      "Processing steps:\n",
      "- - require_correct_ms_level\n",
      "  - required_ms_level: 2\n",
      "- make_charge_int\n",
      "- add_compound_name\n",
      "- - derive_adduct_from_name\n",
      "  - remove_adduct_from_name: true\n",
      "- - derive_formula_from_name\n",
      "  - remove_formula_from_name: true\n",
      "- clean_compound_name\n",
      "- interpret_pepmass\n",
      "- add_precursor_mz\n",
      "- add_retention_index\n",
      "- add_retention_time\n",
      "- derive_ionmode\n",
      "- correct_charge\n",
      "- - require_precursor_mz\n",
      "  - maximum_mz: null\n",
      "    minimum_accepted_mz: 10.0\n",
      "- - harmonize_undefined_inchikey\n",
      "  - aliases: null\n",
      "    undefined: ''\n",
      "- - harmonize_undefined_inchi\n",
      "  - aliases: null\n",
      "    undefined: ''\n",
      "- - harmonize_undefined_smiles\n",
      "  - aliases: null\n",
      "    undefined: ''\n",
      "- repair_inchi_inchikey_smiles\n",
      "- clean_adduct\n",
      "- - add_parent_mass\n",
      "  - estimate_from_adduct: true\n",
      "    estimate_from_charge: true\n",
      "    overwrite_existing_entry: false\n",
      "- - derive_annotation_from_compound_name\n",
      "  - annotated_compound_names_file: null\n",
      "    mass_tolerance: 0.1\n",
      "- derive_smiles_from_inchi\n",
      "- derive_inchi_from_smiles\n",
      "- derive_inchikey_from_inchi\n",
      "- - repair_smiles_of_salts\n",
      "  - mass_tolerance: 0.1\n",
      "- - repair_parent_mass_is_molar_mass\n",
      "  - mass_tolerance: 0.1\n",
      "- repair_not_matching_annotation\n",
      "- require_valid_annotation\n",
      "- - repair_parent_mass_from_smiles\n",
      "  - mass_tolerance: 0.1\n",
      "- - repair_adduct_based_on_parent_mass\n",
      "  - mass_tolerance: 0.1\n",
      "- - require_correct_ionmode\n",
      "  - ion_mode_to_keep: both\n",
      "- - require_parent_mass_match_smiles\n",
      "  - mass_tolerance: 0.1\n",
      "- - require_matching_adduct_precursor_mz_parent_mass\n",
      "  - tolerance: 0.1\n",
      "- require_matching_adduct_and_ionmode\n",
      "- normalize_intensities\n",
      "\n",
      "2024-06-10 13:23:54,666:WARNING:matchms:Pipeline:The order of the filters has been changed compared to the Yaml file.\n",
      "--- Processing pipeline reference spectra: ---\n",
      "Processing steps: []\n",
      "\n",
      "2024-06-10 13:23:54,668:WARNING:matchms:Pipeline:The order of the filters has been changed compared to the Yaml file.\n",
      "--- Processing pipeline query spectra: ---\n",
      "Processing steps:\n",
      "- - require_correct_ms_level\n",
      "  - required_ms_level: 2\n",
      "- make_charge_int\n",
      "- add_compound_name\n",
      "- - derive_adduct_from_name\n",
      "  - remove_adduct_from_name: true\n",
      "- - derive_formula_from_name\n",
      "  - remove_formula_from_name: true\n",
      "- clean_compound_name\n",
      "- interpret_pepmass\n",
      "- add_precursor_mz\n",
      "- add_retention_index\n",
      "- add_retention_time\n",
      "- derive_ionmode\n",
      "- correct_charge\n",
      "- - require_precursor_mz\n",
      "  - maximum_mz: null\n",
      "    minimum_accepted_mz: 10.0\n",
      "- - harmonize_undefined_inchikey\n",
      "  - aliases: null\n",
      "    undefined: ''\n",
      "- - harmonize_undefined_inchi\n",
      "  - aliases: null\n",
      "    undefined: ''\n",
      "- - harmonize_undefined_smiles\n",
      "  - aliases: null\n",
      "    undefined: ''\n",
      "- repair_inchi_inchikey_smiles\n",
      "- clean_adduct\n",
      "- - add_parent_mass\n",
      "  - estimate_from_adduct: true\n",
      "    estimate_from_charge: true\n",
      "    overwrite_existing_entry: false\n",
      "- - derive_annotation_from_compound_name\n",
      "  - annotated_compound_names_file: null\n",
      "    mass_tolerance: 0.1\n",
      "- derive_smiles_from_inchi\n",
      "- derive_inchi_from_smiles\n",
      "- derive_inchikey_from_inchi\n",
      "- - repair_smiles_of_salts\n",
      "  - mass_tolerance: 0.1\n",
      "- - repair_parent_mass_is_molar_mass\n",
      "  - mass_tolerance: 0.1\n",
      "- repair_not_matching_annotation\n",
      "- require_valid_annotation\n",
      "- - repair_parent_mass_from_smiles\n",
      "  - mass_tolerance: 0.1\n",
      "- - repair_adduct_based_on_parent_mass\n",
      "  - mass_tolerance: 0.1\n",
      "- - require_correct_ionmode\n",
      "  - ion_mode_to_keep: both\n",
      "- - require_parent_mass_match_smiles\n",
      "  - mass_tolerance: 0.1\n",
      "- - require_matching_adduct_precursor_mz_parent_mass\n",
      "  - tolerance: 0.1\n",
      "- require_matching_adduct_and_ionmode\n",
      "- normalize_intensities\n",
      "\n",
      "2024-06-10 13:24:16,208:WARNING:matchms:Pipeline:The order of the filters has been changed compared to the Yaml file.\n",
      "--- Processing pipeline reference spectra: ---\n",
      "Processing steps: []\n",
      "\n",
      "2024-06-10 13:24:16,210:WARNING:matchms:Pipeline:The order of the filters has been changed compared to the Yaml file.\n",
      "--- Start running matchms pipeline. ---\n",
      "Start time: 2024-06-10 13:24:16.211512\n",
      "--- Importing data ---\n",
      "Loaded query spectra from ../data/pesticides.mgf\n",
      "Reference spectra are equal to the query spectra (is_symmetric = True)\n",
      "--- Processing spectra ---\n",
      "Time: 2024-06-10 13:24:16.212510\n",
      "2024-06-10 13:24:16,215:INFO:matchms:interpret_pepmass:Added precursor_mz entry based on field 'pepmass'.\n",
      "2024-06-10 13:24:16,215:INFO:matchms:interpret_pepmass:Removed pepmass, since the information was added to other fields\n",
      "2024-06-10 13:24:16,218:INFO:matchms:derive_adduct_from_name:Removed adduct ['M-H'] from compound name.\n",
      "2024-06-10 13:24:16,218:INFO:matchms:derive_adduct_from_name:Added adduct [M-H]- from the compound name to metadata.\n",
      "2024-06-10 13:24:16,223:INFO:matchms:correct_charge:Changed sign of given charge: 1 to match negative ionmode\n",
      "2024-06-10 13:24:16,232:INFO:matchms:derive_inchikey_from_inchi:Added InChIKey UYJUZNLFJAWNEZ-UHFFFAOYSA-N to metadata (was converted from inchi)\n",
      "2024-06-10 13:24:16,257:INFO:matchms:repair_adduct_based_on_parent_mass:Adduct was set from [M-H]- to [M-H]-\n",
      "2024-06-10 13:24:16,263:INFO:matchms:interpret_pepmass:Added precursor_mz entry based on field 'pepmass'.\n",
      "2024-06-10 13:24:16,264:INFO:matchms:interpret_pepmass:Removed pepmass, since the information was added to other fields\n",
      "2024-06-10 13:24:16,264:INFO:matchms:derive_adduct_from_name:Removed adduct ['M-H'] from compound name.\n",
      "2024-06-10 13:24:16,264:INFO:matchms:derive_adduct_from_name:Added adduct [M-H]- from the compound name to metadata.\n",
      "2024-06-10 13:24:16,264:INFO:matchms:correct_charge:Changed sign of given charge: 1 to match negative ionmode\n",
      "2024-06-10 13:24:16,285:INFO:matchms:derive_inchikey_from_inchi:Added InChIKey BBXXLROWFHWFQY-UHFFFAOYSA-N to metadata (was converted from inchi)\n",
      "2024-06-10 13:24:16,301:INFO:matchms:repair_adduct_based_on_parent_mass:Adduct was set from [M-H]- to [M-H]-\n",
      "2024-06-10 13:24:16,310:INFO:matchms:interpret_pepmass:Added precursor_mz entry based on field 'pepmass'.\n",
      "2024-06-10 13:24:16,310:INFO:matchms:interpret_pepmass:Removed pepmass, since the information was added to other fields\n",
      "2024-06-10 13:24:16,314:INFO:matchms:derive_adduct_from_name:Removed adduct ['M+FA-H'] from compound name.\n",
      "2024-06-10 13:24:16,314:INFO:matchms:derive_adduct_from_name:Added adduct [M+FA-H]- from the compound name to metadata.\n",
      "2024-06-10 13:24:16,322:INFO:matchms:correct_charge:Changed sign of given charge: 1 to match negative ionmode\n",
      "2024-06-10 13:24:16,322:INFO:matchms:derive_inchikey_from_inchi:Added InChIKey FBOUIAKEJMZPQG-AWNIVKPZSA-N to metadata (was converted from inchi)\n",
      "2024-06-10 13:24:16,345:INFO:matchms:repair_adduct_based_on_parent_mass:Adduct was set from [M+FA-H]- to [M+FA-H]-\n",
      "2024-06-10 13:24:16,352:INFO:matchms:interpret_pepmass:Added precursor_mz entry based on field 'pepmass'.\n",
      "2024-06-10 13:24:16,352:INFO:matchms:interpret_pepmass:Removed pepmass, since the information was added to other fields\n",
      "2024-06-10 13:24:16,354:INFO:matchms:derive_adduct_from_name:Removed adduct ['M-H'] from compound name.\n",
      "2024-06-10 13:24:16,355:INFO:matchms:derive_adduct_from_name:Added adduct [M-H]- from the compound name to metadata.\n",
      "2024-06-10 13:24:16,357:INFO:matchms:correct_charge:Changed sign of given charge: 1 to match negative ionmode\n",
      "2024-06-10 13:24:16,372:INFO:matchms:derive_inchikey_from_inchi:Added InChIKey RZILCCPWPBTYDO-UHFFFAOYSA-N to metadata (was converted from inchi)\n",
      "2024-06-10 13:24:16,383:INFO:matchms:repair_adduct_based_on_parent_mass:Adduct was set from [M-H]- to [M-H]-\n",
      "2024-06-10 13:24:16,388:INFO:matchms:interpret_pepmass:Added precursor_mz entry based on field 'pepmass'.\n",
      "2024-06-10 13:24:16,388:INFO:matchms:interpret_pepmass:Removed pepmass, since the information was added to other fields\n",
      "2024-06-10 13:24:16,390:INFO:matchms:derive_adduct_from_name:Removed adduct ['M-H'] from compound name.\n",
      "2024-06-10 13:24:16,390:INFO:matchms:derive_adduct_from_name:Added adduct [M-H]- from the compound name to metadata.\n",
      "2024-06-10 13:24:16,395:INFO:matchms:correct_charge:Changed sign of given charge: 1 to match negative ionmode\n",
      "2024-06-10 13:24:16,398:INFO:matchms:derive_inchikey_from_inchi:Added InChIKey GPXLRLUVLMHHIK-UHFFFAOYSA-N to metadata (was converted from inchi)\n",
      "2024-06-10 13:24:16,413:INFO:matchms:repair_adduct_based_on_parent_mass:Adduct was set from [M-H]- to [M-H]-\n",
      "2024-06-10 13:24:16,413:INFO:matchms:interpret_pepmass:Added precursor_mz entry based on field 'pepmass'.\n",
      "2024-06-10 13:24:16,413:INFO:matchms:interpret_pepmass:Removed pepmass, since the information was added to other fields\n",
      "2024-06-10 13:24:16,423:INFO:matchms:derive_adduct_from_name:Removed adduct ['M+Cl'] from compound name.\n",
      "2024-06-10 13:24:16,423:INFO:matchms:derive_adduct_from_name:Added adduct [M+Cl]- from the compound name to metadata.\n",
      "2024-06-10 13:24:16,423:INFO:matchms:correct_charge:Changed sign of given charge: 1 to match negative ionmode\n",
      "2024-06-10 13:24:16,423:INFO:matchms:derive_inchikey_from_inchi:Added InChIKey GPXLRLUVLMHHIK-UHFFFAOYSA-N to metadata (was converted from inchi)\n",
      "2024-06-10 13:24:16,451:INFO:matchms:repair_adduct_based_on_parent_mass:Adduct was set from [M+Cl]- to [M+Cl]-\n",
      "2024-06-10 13:24:16,457:INFO:matchms:interpret_pepmass:Added precursor_mz entry based on field 'pepmass'.\n",
      "2024-06-10 13:24:16,457:INFO:matchms:interpret_pepmass:Removed pepmass, since the information was added to other fields\n",
      "2024-06-10 13:24:16,461:INFO:matchms:derive_adduct_from_name:Removed adduct ['M+FA-H'] from compound name.\n",
      "2024-06-10 13:24:16,462:INFO:matchms:derive_adduct_from_name:Added adduct [M+FA-H]- from the compound name to metadata.\n",
      "2024-06-10 13:24:16,467:INFO:matchms:correct_charge:Changed sign of given charge: 1 to match negative ionmode\n",
      "2024-06-10 13:24:16,467:INFO:matchms:derive_inchikey_from_inchi:Added InChIKey GPXLRLUVLMHHIK-UHFFFAOYSA-N to metadata (was converted from inchi)\n",
      "2024-06-10 13:24:16,489:INFO:matchms:repair_adduct_based_on_parent_mass:Adduct was set from [M+FA-H]- to [M+FA-H]-\n",
      "2024-06-10 13:24:16,493:INFO:matchms:interpret_pepmass:Added precursor_mz entry based on field 'pepmass'.\n",
      "2024-06-10 13:24:16,494:INFO:matchms:interpret_pepmass:Removed pepmass, since the information was added to other fields\n",
      "2024-06-10 13:24:16,496:INFO:matchms:derive_adduct_from_name:Removed adduct ['M-H'] from compound name.\n",
      "2024-06-10 13:24:16,496:INFO:matchms:derive_adduct_from_name:Added adduct [M-H]- from the compound name to metadata.\n",
      "2024-06-10 13:24:16,500:INFO:matchms:correct_charge:Changed sign of given charge: 1 to match negative ionmode\n",
      "2024-06-10 13:24:16,510:INFO:matchms:derive_inchikey_from_inchi:Added InChIKey JXCGFZXSOMJFOA-UHFFFAOYSA-N to metadata (was converted from inchi)\n",
      "2024-06-10 13:24:16,514:INFO:matchms:repair_adduct_based_on_parent_mass:Adduct was set from [M-H]- to [M-H]-\n",
      "2024-06-10 13:24:16,514:INFO:matchms:interpret_pepmass:Added precursor_mz entry based on field 'pepmass'.\n",
      "2024-06-10 13:24:16,514:INFO:matchms:interpret_pepmass:Removed pepmass, since the information was added to other fields\n",
      "2024-06-10 13:24:16,514:INFO:matchms:derive_adduct_from_name:Removed adduct ['M-H'] from compound name.\n",
      "2024-06-10 13:24:16,514:INFO:matchms:derive_adduct_from_name:Added adduct [M-H]- from the compound name to metadata.\n",
      "2024-06-10 13:24:16,530:INFO:matchms:correct_charge:Changed sign of given charge: 1 to match negative ionmode\n",
      "2024-06-10 13:24:16,540:INFO:matchms:derive_inchikey_from_inchi:Added InChIKey XMTQQYYKAHVGBJ-UHFFFAOYSA-N to metadata (was converted from inchi)\n",
      "2024-06-10 13:24:16,540:INFO:matchms:repair_adduct_based_on_parent_mass:Adduct was set from [M-H]- to [M-H]-\n",
      "2024-06-10 13:24:16,559:INFO:matchms:interpret_pepmass:Added precursor_mz entry based on field 'pepmass'.\n",
      "2024-06-10 13:24:16,559:INFO:matchms:interpret_pepmass:Removed pepmass, since the information was added to other fields\n",
      "2024-06-10 13:24:16,562:INFO:matchms:derive_adduct_from_name:Removed adduct ['M-H'] from compound name.\n",
      "2024-06-10 13:24:16,563:INFO:matchms:derive_adduct_from_name:Added adduct [M-H]- from the compound name to metadata.\n",
      "2024-06-10 13:24:16,566:INFO:matchms:correct_charge:Changed sign of given charge: 1 to match negative ionmode\n",
      "2024-06-10 13:24:16,566:INFO:matchms:derive_inchikey_from_inchi:Added InChIKey QQQYTWIFVNKMRW-UHFFFAOYSA-N to metadata (was converted from inchi)\n",
      "2024-06-10 13:24:16,597:INFO:matchms:repair_adduct_based_on_parent_mass:Adduct was set from [M-H]- to [M-H]-\n",
      "2024-06-10 13:24:16,603:INFO:matchms:interpret_pepmass:Added precursor_mz entry based on field 'pepmass'.\n",
      "2024-06-10 13:24:16,604:INFO:matchms:interpret_pepmass:Removed pepmass, since the information was added to other fields\n",
      "2024-06-10 13:24:16,606:INFO:matchms:derive_adduct_from_name:Removed adduct ['M-H'] from compound name.\n",
      "2024-06-10 13:24:16,606:INFO:matchms:derive_adduct_from_name:Added adduct [M-H]- from the compound name to metadata.\n",
      "2024-06-10 13:24:16,610:INFO:matchms:correct_charge:Changed sign of given charge: 1 to match negative ionmode\n",
      "2024-06-10 13:24:16,614:INFO:matchms:derive_inchikey_from_inchi:Added InChIKey CCGPUGMWYLICGL-UHFFFAOYSA-N to metadata (was converted from inchi)\n",
      "2024-06-10 13:24:16,629:INFO:matchms:repair_adduct_based_on_parent_mass:Adduct was set from [M-H]- to [M-H]-\n",
      "2024-06-10 13:24:16,629:INFO:matchms:interpret_pepmass:Added precursor_mz entry based on field 'pepmass'.\n",
      "2024-06-10 13:24:16,629:INFO:matchms:interpret_pepmass:Removed pepmass, since the information was added to other fields\n",
      "2024-06-10 13:24:16,629:INFO:matchms:derive_adduct_from_name:Removed adduct ['M-H'] from compound name.\n",
      "2024-06-10 13:24:16,629:INFO:matchms:derive_adduct_from_name:Added adduct [M-H]- from the compound name to metadata.\n",
      "2024-06-10 13:24:16,629:INFO:matchms:correct_charge:Changed sign of given charge: 1 to match negative ionmode\n",
      "2024-06-10 13:24:16,645:INFO:matchms:derive_inchikey_from_inchi:Added InChIKey XAIPTRIXGHTTNT-UHFFFAOYSA-N to metadata (was converted from inchi)\n",
      "2024-06-10 13:24:16,655:INFO:matchms:repair_adduct_based_on_parent_mass:Adduct was set from [M-H]- to [M-H]-\n",
      "2024-06-10 13:24:16,655:INFO:matchms:interpret_pepmass:Added precursor_mz entry based on field 'pepmass'.\n",
      "2024-06-10 13:24:16,655:INFO:matchms:interpret_pepmass:Removed pepmass, since the information was added to other fields\n",
      "2024-06-10 13:24:16,673:INFO:matchms:derive_adduct_from_name:Removed adduct ['M-H'] from compound name.\n",
      "2024-06-10 13:24:16,673:INFO:matchms:derive_adduct_from_name:Added adduct [M-H]- from the compound name to metadata.\n",
      "2024-06-10 13:24:16,678:INFO:matchms:correct_charge:Changed sign of given charge: 1 to match negative ionmode\n",
      "2024-06-10 13:24:16,687:INFO:matchms:derive_inchi_from_smiles:Added InChI (InChI=1S/C16H8Cl2F6N2O3/c17-7-4-6(5-8(18)12(7)29-16(23,24)14(21)22)25-15(28)26-13(27)11-9(19)2-1-3-10(11)20/h1-5,14H,(H2,25,26,27,28)) to metadata (was converted from smiles).\n",
      "2024-06-10 13:24:16,689:INFO:matchms:derive_inchikey_from_inchi:Added InChIKey RGNPBRKPHBKNKX-UHFFFAOYSA-N to metadata (was converted from inchi)\n",
      "2024-06-10 13:24:16,697:INFO:matchms:repair_adduct_based_on_parent_mass:Adduct was set from [M-H]- to [M-H]-\n",
      "2024-06-10 13:24:16,697:INFO:matchms:interpret_pepmass:Added precursor_mz entry based on field 'pepmass'.\n",
      "2024-06-10 13:24:16,697:INFO:matchms:interpret_pepmass:Removed pepmass, since the information was added to other fields\n",
      "2024-06-10 13:24:16,697:INFO:matchms:derive_adduct_from_name:Removed adduct ['M-H'] from compound name.\n",
      "2024-06-10 13:24:16,713:INFO:matchms:derive_adduct_from_name:Added adduct [M-H]- from the compound name to metadata.\n",
      "2024-06-10 13:24:16,716:INFO:matchms:correct_charge:Changed sign of given charge: 1 to match negative ionmode\n",
      "2024-06-10 13:24:16,716:INFO:matchms:derive_inchikey_from_inchi:Added InChIKey NJPPVKZQTLUDBO-UHFFFAOYSA-N to metadata (was converted from inchi)\n",
      "2024-06-10 13:24:16,741:INFO:matchms:repair_adduct_based_on_parent_mass:Adduct was set from [M-H]- to [M-H]-\n",
      "2024-06-10 13:24:16,746:INFO:matchms:interpret_pepmass:Added precursor_mz entry based on field 'pepmass'.\n",
      "2024-06-10 13:24:16,746:INFO:matchms:interpret_pepmass:Removed pepmass, since the information was added to other fields\n",
      "2024-06-10 13:24:16,749:INFO:matchms:derive_adduct_from_name:Removed adduct ['M-H2O-H'] from compound name.\n",
      "2024-06-10 13:24:16,749:INFO:matchms:derive_adduct_from_name:Added adduct [M-H2O-H]- from the compound name to metadata.\n",
      "2024-06-10 13:24:16,753:INFO:matchms:correct_charge:Changed sign of given charge: 1 to match negative ionmode\n",
      "2024-06-10 13:24:16,764:INFO:matchms:derive_inchikey_from_inchi:Added InChIKey NJPPVKZQTLUDBO-UHFFFAOYSA-N to metadata (was converted from inchi)\n",
      "2024-06-10 13:24:16,777:INFO:matchms:repair_adduct_based_on_parent_mass:Adduct was set from [M-H2O-H]- to [M-H2O-H]-\n",
      "2024-06-10 13:24:16,783:INFO:matchms:interpret_pepmass:Added precursor_mz entry based on field 'pepmass'.\n",
      "2024-06-10 13:24:16,783:INFO:matchms:interpret_pepmass:Removed pepmass, since the information was added to other fields\n",
      "2024-06-10 13:24:16,785:INFO:matchms:derive_adduct_from_name:Removed adduct ['M+Cl'] from compound name.\n",
      "2024-06-10 13:24:16,785:INFO:matchms:derive_adduct_from_name:Added adduct [M+Cl]- from the compound name to metadata.\n",
      "2024-06-10 13:24:16,790:INFO:matchms:correct_charge:Changed sign of given charge: 1 to match negative ionmode\n",
      "2024-06-10 13:24:16,800:INFO:matchms:derive_inchikey_from_inchi:Added InChIKey NJPPVKZQTLUDBO-UHFFFAOYSA-N to metadata (was converted from inchi)\n",
      "2024-06-10 13:24:16,813:INFO:matchms:repair_adduct_based_on_parent_mass:Adduct was set from [M+Cl]- to [M+Cl]-\n",
      "2024-06-10 13:24:16,814:INFO:matchms:interpret_pepmass:Added precursor_mz entry based on field 'pepmass'.\n",
      "2024-06-10 13:24:16,814:INFO:matchms:interpret_pepmass:Removed pepmass, since the information was added to other fields\n",
      "2024-06-10 13:24:16,814:INFO:matchms:derive_adduct_from_name:Removed adduct ['M-H'] from compound name.\n",
      "2024-06-10 13:24:16,814:INFO:matchms:derive_adduct_from_name:Added adduct [M-H]- from the compound name to metadata.\n",
      "2024-06-10 13:24:16,814:INFO:matchms:correct_charge:Changed sign of given charge: 1 to match negative ionmode\n",
      "2024-06-10 13:24:16,833:INFO:matchms:derive_inchikey_from_inchi:Added InChIKey CJDWRQLODFKPEL-UHFFFAOYSA-N to metadata (was converted from inchi)\n",
      "2024-06-10 13:24:16,850:INFO:matchms:repair_adduct_based_on_parent_mass:Adduct was set from [M-H]- to [M-H]-\n",
      "2024-06-10 13:24:16,855:INFO:matchms:interpret_pepmass:Added precursor_mz entry based on field 'pepmass'.\n",
      "2024-06-10 13:24:16,856:INFO:matchms:interpret_pepmass:Removed pepmass, since the information was added to other fields\n",
      "2024-06-10 13:24:16,858:INFO:matchms:derive_adduct_from_name:Removed adduct ['M-H'] from compound name.\n",
      "2024-06-10 13:24:16,858:INFO:matchms:derive_adduct_from_name:Added adduct [M-H]- from the compound name to metadata.\n",
      "2024-06-10 13:24:16,863:INFO:matchms:correct_charge:Changed sign of given charge: 1 to match negative ionmode\n",
      "2024-06-10 13:24:16,880:INFO:matchms:derive_inchikey_from_inchi:Added InChIKey PWPJGUXAGUPAHP-UHFFFAOYSA-N to metadata (was converted from inchi)\n",
      "2024-06-10 13:24:16,889:INFO:matchms:repair_adduct_based_on_parent_mass:Adduct was set from [M-H]- to [M-H]-\n",
      "2024-06-10 13:24:16,889:INFO:matchms:interpret_pepmass:Added precursor_mz entry based on field 'pepmass'.\n",
      "2024-06-10 13:24:16,889:INFO:matchms:interpret_pepmass:Removed pepmass, since the information was added to other fields\n",
      "2024-06-10 13:24:16,889:INFO:matchms:derive_adduct_from_name:Removed adduct ['M-H'] from compound name.\n",
      "2024-06-10 13:24:16,889:INFO:matchms:derive_adduct_from_name:Added adduct [M-H]- from the compound name to metadata.\n",
      "2024-06-10 13:24:16,907:INFO:matchms:correct_charge:Changed sign of given charge: 1 to match negative ionmode\n",
      "2024-06-10 13:24:16,916:INFO:matchms:derive_inchi_from_smiles:Added InChI (InChI=1S/C16H8Cl2F6N2O3/c17-7-4-6(5-8(18)12(7)29-16(23,24)14(21)22)25-15(28)26-13(27)11-9(19)2-1-3-10(11)20/h1-5,14H,(H2,25,26,27,28)) to metadata (was converted from smiles).\n",
      "2024-06-10 13:24:16,918:INFO:matchms:derive_inchikey_from_inchi:Added InChIKey RGNPBRKPHBKNKX-UHFFFAOYSA-N to metadata (was converted from inchi)\n",
      "2024-06-10 13:24:16,932:INFO:matchms:repair_adduct_based_on_parent_mass:Adduct was set from [M-H]- to [M-H]-\n",
      "2024-06-10 13:24:16,938:INFO:matchms:interpret_pepmass:Added precursor_mz entry based on field 'pepmass'.\n",
      "2024-06-10 13:24:16,938:INFO:matchms:interpret_pepmass:Removed pepmass, since the information was added to other fields\n",
      "2024-06-10 13:24:16,940:INFO:matchms:derive_adduct_from_name:Removed adduct ['M-H'] from compound name.\n",
      "2024-06-10 13:24:16,941:INFO:matchms:derive_adduct_from_name:Added adduct [M-H]- from the compound name to metadata.\n",
      "2024-06-10 13:24:16,946:INFO:matchms:correct_charge:Changed sign of given charge: 1 to match negative ionmode\n",
      "2024-06-10 13:24:16,951:INFO:matchms:derive_inchikey_from_inchi:Added InChIKey RYLHNOVXKPXDIP-UHFFFAOYSA-N to metadata (was converted from inchi)\n",
      "2024-06-10 13:24:16,977:INFO:matchms:repair_adduct_based_on_parent_mass:Adduct was set from [M-H]- to [M-H]-\n",
      "2024-06-10 13:24:16,983:INFO:matchms:interpret_pepmass:Added precursor_mz entry based on field 'pepmass'.\n",
      "2024-06-10 13:24:16,983:INFO:matchms:interpret_pepmass:Removed pepmass, since the information was added to other fields\n",
      "2024-06-10 13:24:16,986:INFO:matchms:derive_adduct_from_name:Removed adduct ['M-H'] from compound name.\n",
      "2024-06-10 13:24:16,986:INFO:matchms:derive_adduct_from_name:Added adduct [M-H]- from the compound name to metadata.\n",
      "2024-06-10 13:24:16,991:INFO:matchms:correct_charge:Changed sign of given charge: 1 to match negative ionmode\n",
      "2024-06-10 13:24:17,003:INFO:matchms:derive_inchikey_from_inchi:Added InChIKey NJPPVKZQTLUDBO-UHFFFAOYSA-N to metadata (was converted from inchi)\n",
      "2024-06-10 13:24:17,016:INFO:matchms:repair_adduct_based_on_parent_mass:Adduct was set from [M-H]- to [M-H]-\n",
      "2024-06-10 13:24:17,021:INFO:matchms:interpret_pepmass:Added precursor_mz entry based on field 'pepmass'.\n",
      "2024-06-10 13:24:17,021:INFO:matchms:interpret_pepmass:Removed pepmass, since the information was added to other fields\n",
      "2024-06-10 13:24:17,025:INFO:matchms:derive_adduct_from_name:Removed adduct ['M+Cl'] from compound name.\n",
      "2024-06-10 13:24:17,025:INFO:matchms:derive_adduct_from_name:Added adduct [M+Cl]- from the compound name to metadata.\n",
      "2024-06-10 13:24:17,029:INFO:matchms:correct_charge:Changed sign of given charge: 1 to match negative ionmode\n",
      "2024-06-10 13:24:17,040:INFO:matchms:derive_inchikey_from_inchi:Added InChIKey NJPPVKZQTLUDBO-UHFFFAOYSA-N to metadata (was converted from inchi)\n",
      "2024-06-10 13:24:17,054:INFO:matchms:repair_adduct_based_on_parent_mass:Adduct was set from [M+Cl]- to [M+Cl]-\n",
      "2024-06-10 13:24:17,060:INFO:matchms:interpret_pepmass:Added precursor_mz entry based on field 'pepmass'.\n",
      "2024-06-10 13:24:17,060:INFO:matchms:interpret_pepmass:Removed pepmass, since the information was added to other fields\n",
      "2024-06-10 13:24:17,064:INFO:matchms:derive_adduct_from_name:Removed adduct ['M-H'] from compound name.\n",
      "2024-06-10 13:24:17,064:INFO:matchms:derive_adduct_from_name:Added adduct [M-H]- from the compound name to metadata.\n",
      "2024-06-10 13:24:17,066:INFO:matchms:correct_charge:Changed sign of given charge: 1 to match negative ionmode\n",
      "2024-06-10 13:24:17,081:INFO:matchms:derive_inchikey_from_inchi:Added InChIKey UISUNVFOGSJSKD-UHFFFAOYSA-N to metadata (was converted from inchi)\n",
      "2024-06-10 13:24:17,095:INFO:matchms:repair_adduct_based_on_parent_mass:Adduct was set from [M-H]- to [M-H]-\n",
      "2024-06-10 13:24:17,100:INFO:matchms:interpret_pepmass:Added precursor_mz entry based on field 'pepmass'.\n",
      "2024-06-10 13:24:17,100:INFO:matchms:interpret_pepmass:Removed pepmass, since the information was added to other fields\n",
      "2024-06-10 13:24:17,102:INFO:matchms:derive_adduct_from_name:Removed adduct ['M-H'] from compound name.\n",
      "2024-06-10 13:24:17,103:INFO:matchms:derive_adduct_from_name:Added adduct [M-H]- from the compound name to metadata.\n",
      "2024-06-10 13:24:17,107:INFO:matchms:correct_charge:Changed sign of given charge: 1 to match negative ionmode\n",
      "2024-06-10 13:24:17,119:INFO:matchms:derive_inchikey_from_inchi:Added InChIKey PWPJGUXAGUPAHP-UHFFFAOYSA-N to metadata (was converted from inchi)\n",
      "2024-06-10 13:24:17,131:INFO:matchms:repair_adduct_based_on_parent_mass:Adduct was set from [M-H]- to [M-H]-\n",
      "2024-06-10 13:24:17,136:INFO:matchms:interpret_pepmass:Added precursor_mz entry based on field 'pepmass'.\n",
      "2024-06-10 13:24:17,136:INFO:matchms:interpret_pepmass:Removed pepmass, since the information was added to other fields\n",
      "2024-06-10 13:24:17,138:INFO:matchms:derive_adduct_from_name:Removed adduct ['M-H'] from compound name.\n",
      "2024-06-10 13:24:17,138:INFO:matchms:derive_adduct_from_name:Added adduct [M-H]- from the compound name to metadata.\n",
      "2024-06-10 13:24:17,144:INFO:matchms:correct_charge:Changed sign of given charge: 1 to match negative ionmode\n",
      "2024-06-10 13:24:17,154:INFO:matchms:derive_inchikey_from_inchi:Added InChIKey YASYVMFAVPKPKE-UHFFFAOYSA-N to metadata (was converted from inchi)\n",
      "2024-06-10 13:24:17,164:INFO:matchms:repair_adduct_based_on_parent_mass:Adduct was set from [M-H]- to [M-H]-\n",
      "2024-06-10 13:24:17,170:INFO:matchms:interpret_pepmass:Added precursor_mz entry based on field 'pepmass'.\n",
      "2024-06-10 13:24:17,170:INFO:matchms:interpret_pepmass:Removed pepmass, since the information was added to other fields\n",
      "2024-06-10 13:24:17,173:INFO:matchms:derive_adduct_from_name:Removed adduct ['M-H'] from compound name.\n",
      "2024-06-10 13:24:17,173:INFO:matchms:derive_adduct_from_name:Added adduct [M-H]- from the compound name to metadata.\n",
      "2024-06-10 13:24:17,177:INFO:matchms:correct_charge:Changed sign of given charge: 1 to match negative ionmode\n",
      "2024-06-10 13:24:17,190:INFO:matchms:derive_inchikey_from_inchi:Added InChIKey RYLHNOVXKPXDIP-UHFFFAOYSA-N to metadata (was converted from inchi)\n",
      "2024-06-10 13:24:17,205:INFO:matchms:repair_adduct_based_on_parent_mass:Adduct was set from [M-H]- to [M-H]-\n",
      "2024-06-10 13:24:17,212:INFO:matchms:interpret_pepmass:Added precursor_mz entry based on field 'pepmass'.\n",
      "2024-06-10 13:24:17,212:INFO:matchms:interpret_pepmass:Removed pepmass, since the information was added to other fields\n",
      "2024-06-10 13:24:17,215:INFO:matchms:derive_adduct_from_name:Removed adduct ['M-H'] from compound name.\n",
      "2024-06-10 13:24:17,215:INFO:matchms:derive_adduct_from_name:Added adduct [M-H]- from the compound name to metadata.\n",
      "2024-06-10 13:24:17,220:INFO:matchms:correct_charge:Changed sign of given charge: 1 to match negative ionmode\n",
      "2024-06-10 13:24:17,232:INFO:matchms:derive_inchikey_from_inchi:Added InChIKey YKBZOVFACRVRJN-UHFFFAOYSA-N to metadata (was converted from inchi)\n",
      "2024-06-10 13:24:17,245:INFO:matchms:repair_adduct_based_on_parent_mass:Adduct was set from [M-H]- to [M-H]-\n",
      "2024-06-10 13:24:17,248:INFO:matchms:interpret_pepmass:Added precursor_mz entry based on field 'pepmass'.\n",
      "2024-06-10 13:24:17,248:INFO:matchms:interpret_pepmass:Removed pepmass, since the information was added to other fields\n",
      "2024-06-10 13:24:17,248:INFO:matchms:derive_adduct_from_name:Removed adduct ['M-H'] from compound name.\n",
      "2024-06-10 13:24:17,248:INFO:matchms:derive_adduct_from_name:Added adduct [M-H]- from the compound name to metadata.\n",
      "2024-06-10 13:24:17,248:INFO:matchms:correct_charge:Changed sign of given charge: 1 to match negative ionmode\n",
      "2024-06-10 13:24:17,269:INFO:matchms:derive_inchikey_from_inchi:Added InChIKey UISUNVFOGSJSKD-UHFFFAOYSA-N to metadata (was converted from inchi)\n",
      "2024-06-10 13:24:17,280:INFO:matchms:repair_adduct_based_on_parent_mass:Adduct was set from [M-H]- to [M-H]-\n",
      "2024-06-10 13:24:17,280:INFO:matchms:interpret_pepmass:Added precursor_mz entry based on field 'pepmass'.\n",
      "2024-06-10 13:24:17,280:INFO:matchms:interpret_pepmass:Removed pepmass, since the information was added to other fields\n",
      "2024-06-10 13:24:17,290:INFO:matchms:derive_adduct_from_name:Removed adduct ['M-H'] from compound name.\n",
      "2024-06-10 13:24:17,290:INFO:matchms:derive_adduct_from_name:Added adduct [M-H]- from the compound name to metadata.\n",
      "2024-06-10 13:24:17,297:INFO:matchms:correct_charge:Changed sign of given charge: 1 to match negative ionmode\n",
      "2024-06-10 13:24:17,300:INFO:matchms:derive_inchikey_from_inchi:Added InChIKey RLQJEEJISHYWON-UHFFFAOYSA-N to metadata (was converted from inchi)\n",
      "2024-06-10 13:24:17,324:INFO:matchms:repair_adduct_based_on_parent_mass:Adduct was set from [M-H]- to [M-H]-\n",
      "2024-06-10 13:24:17,333:INFO:matchms:interpret_pepmass:Added precursor_mz entry based on field 'pepmass'.\n",
      "2024-06-10 13:24:17,333:INFO:matchms:interpret_pepmass:Removed pepmass, since the information was added to other fields\n",
      "2024-06-10 13:24:17,337:INFO:matchms:derive_adduct_from_name:Removed adduct ['M-H'] from compound name.\n",
      "2024-06-10 13:24:17,337:INFO:matchms:derive_adduct_from_name:Added adduct [M-H]- from the compound name to metadata.\n",
      "2024-06-10 13:24:17,343:INFO:matchms:correct_charge:Changed sign of given charge: 1 to match negative ionmode\n",
      "2024-06-10 13:24:17,355:INFO:matchms:derive_inchikey_from_inchi:Added InChIKey OORLZFUTLGXMEF-UHFFFAOYSA-N to metadata (was converted from inchi)\n",
      "2024-06-10 13:24:17,367:INFO:matchms:repair_adduct_based_on_parent_mass:Adduct was set from [M-H]- to [M-H]-\n",
      "2024-06-10 13:24:17,372:INFO:matchms:interpret_pepmass:Added precursor_mz entry based on field 'pepmass'.\n",
      "2024-06-10 13:24:17,372:INFO:matchms:interpret_pepmass:Removed pepmass, since the information was added to other fields\n",
      "2024-06-10 13:24:17,374:INFO:matchms:derive_adduct_from_name:Removed adduct ['M-H'] from compound name.\n",
      "2024-06-10 13:24:17,374:INFO:matchms:derive_adduct_from_name:Added adduct [M-H]- from the compound name to metadata.\n",
      "2024-06-10 13:24:17,378:INFO:matchms:correct_charge:Changed sign of given charge: 1 to match negative ionmode\n",
      "2024-06-10 13:24:17,380:INFO:matchms:derive_inchikey_from_inchi:Added InChIKey TXAJNJOHZOGTLT-UHFFFAOYSA-N to metadata (was converted from inchi)\n",
      "2024-06-10 13:24:17,399:INFO:matchms:repair_adduct_based_on_parent_mass:Adduct was set from [M-H]- to [M-H]-\n",
      "2024-06-10 13:24:17,405:INFO:matchms:interpret_pepmass:Added precursor_mz entry based on field 'pepmass'.\n",
      "2024-06-10 13:24:17,406:INFO:matchms:interpret_pepmass:Removed pepmass, since the information was added to other fields\n",
      "2024-06-10 13:24:17,408:INFO:matchms:derive_adduct_from_name:Removed adduct ['M+K-2H'] from compound name.\n",
      "2024-06-10 13:24:17,408:INFO:matchms:derive_adduct_from_name:Added adduct [M+K-2H] from the compound name to metadata.\n",
      "2024-06-10 13:24:17,414:INFO:matchms:correct_charge:Changed sign of given charge: 1 to match negative ionmode\n",
      "2024-06-10 13:24:17,416:INFO:matchms:clean_adduct:The adduct [M+K-2H] was set to [M+K-2H]-\n",
      "2024-06-10 13:24:17,416:INFO:matchms:derive_inchikey_from_inchi:Added InChIKey QHMTXANCGGJZRX-WUXMJOGZSA-N to metadata (was converted from inchi)\n",
      "2024-06-10 13:24:17,436:INFO:matchms:repair_adduct_based_on_parent_mass:Adduct was set from [M+K-2H]- to [M+K-2H]-\n",
      "2024-06-10 13:24:17,441:INFO:matchms:interpret_pepmass:Added precursor_mz entry based on field 'pepmass'.\n",
      "2024-06-10 13:24:17,441:INFO:matchms:interpret_pepmass:Removed pepmass, since the information was added to other fields\n",
      "2024-06-10 13:24:17,443:INFO:matchms:derive_adduct_from_name:Removed adduct ['M-H'] from compound name.\n",
      "2024-06-10 13:24:17,443:INFO:matchms:derive_adduct_from_name:Added adduct [M-H]- from the compound name to metadata.\n",
      "2024-06-10 13:24:17,448:INFO:matchms:correct_charge:Changed sign of given charge: 1 to match negative ionmode\n",
      "2024-06-10 13:24:17,458:INFO:matchms:derive_inchikey_from_inchi:Added InChIKey ZOCSXAVNDGMNBV-UHFFFAOYSA-N to metadata (was converted from inchi)\n",
      "2024-06-10 13:24:17,470:INFO:matchms:repair_adduct_based_on_parent_mass:Adduct was set from [M-H]- to [M-H]-\n",
      "2024-06-10 13:24:17,475:INFO:matchms:interpret_pepmass:Added precursor_mz entry based on field 'pepmass'.\n",
      "2024-06-10 13:24:17,475:INFO:matchms:interpret_pepmass:Removed pepmass, since the information was added to other fields\n",
      "2024-06-10 13:24:17,477:INFO:matchms:derive_adduct_from_name:Removed adduct ['M+Cl'] from compound name.\n",
      "2024-06-10 13:24:17,478:INFO:matchms:derive_adduct_from_name:Added adduct [M+Cl]- from the compound name to metadata.\n",
      "2024-06-10 13:24:17,482:INFO:matchms:correct_charge:Changed sign of given charge: 1 to match negative ionmode\n",
      "2024-06-10 13:24:17,492:INFO:matchms:derive_inchikey_from_inchi:Added InChIKey ZOCSXAVNDGMNBV-UHFFFAOYSA-N to metadata (was converted from inchi)\n",
      "2024-06-10 13:24:17,497:INFO:matchms:repair_adduct_based_on_parent_mass:Adduct was set from [M+Cl]- to [M+Cl]-\n",
      "2024-06-10 13:24:17,497:INFO:matchms:interpret_pepmass:Added precursor_mz entry based on field 'pepmass'.\n",
      "2024-06-10 13:24:17,497:INFO:matchms:interpret_pepmass:Removed pepmass, since the information was added to other fields\n",
      "2024-06-10 13:24:17,497:INFO:matchms:derive_adduct_from_name:Removed adduct ['M-H'] from compound name.\n",
      "2024-06-10 13:24:17,513:INFO:matchms:derive_adduct_from_name:Added adduct [M-H]- from the compound name to metadata.\n",
      "2024-06-10 13:24:17,513:INFO:matchms:correct_charge:Changed sign of given charge: 1 to match negative ionmode\n",
      "2024-06-10 13:24:17,513:INFO:matchms:derive_inchikey_from_inchi:Added InChIKey YXKMMRDKEKCERS-UHFFFAOYSA-N to metadata (was converted from inchi)\n",
      "2024-06-10 13:24:17,547:INFO:matchms:require_matching_adduct_precursor_mz_parent_mass:Spectrum is removed because the adduct : [M-H]- and precursor_mz: 681.016 suggest a parent mass of 682.0232764520907, but parent mass 324.04477433600005 is given\n",
      "2024-06-10 13:24:17,549:INFO:matchms:interpret_pepmass:Added precursor_mz entry based on field 'pepmass'.\n",
      "2024-06-10 13:24:17,549:INFO:matchms:interpret_pepmass:Removed pepmass, since the information was added to other fields\n",
      "2024-06-10 13:24:17,551:INFO:matchms:derive_adduct_from_name:Removed adduct ['M-H'] from compound name.\n",
      "2024-06-10 13:24:17,551:INFO:matchms:derive_adduct_from_name:Added adduct [M-H]- from the compound name to metadata.\n",
      "2024-06-10 13:24:17,556:INFO:matchms:correct_charge:Changed sign of given charge: 1 to match negative ionmode\n",
      "2024-06-10 13:24:17,567:INFO:matchms:derive_inchikey_from_inchi:Added InChIKey XERJKGMBORTKEO-VZUCSPMQSA-N to metadata (was converted from inchi)\n",
      "2024-06-10 13:24:17,580:INFO:matchms:repair_adduct_based_on_parent_mass:Adduct was set from [M-H]- to [M+K-2H]-\n",
      "2024-06-10 13:24:17,586:INFO:matchms:interpret_pepmass:Added precursor_mz entry based on field 'pepmass'.\n",
      "2024-06-10 13:24:17,586:INFO:matchms:interpret_pepmass:Removed pepmass, since the information was added to other fields\n",
      "2024-06-10 13:24:17,588:INFO:matchms:derive_adduct_from_name:Removed adduct ['M+Cl'] from compound name.\n",
      "2024-06-10 13:24:17,588:INFO:matchms:derive_adduct_from_name:Added adduct [M+Cl]- from the compound name to metadata.\n",
      "2024-06-10 13:24:17,592:INFO:matchms:correct_charge:Changed sign of given charge: 1 to match negative ionmode\n",
      "2024-06-10 13:24:17,608:INFO:matchms:derive_inchikey_from_inchi:Added InChIKey YXKMMRDKEKCERS-UHFFFAOYSA-N to metadata (was converted from inchi)\n",
      "2024-06-10 13:24:17,614:INFO:matchms:require_matching_adduct_precursor_mz_parent_mass:Spectrum is removed because the adduct : [M+Cl]- and precursor_mz: 716.992 suggest a parent mass of 682.0225987400908, but parent mass 324.04477433600005 is given\n",
      "2024-06-10 13:24:17,614:INFO:matchms:interpret_pepmass:Added precursor_mz entry based on field 'pepmass'.\n",
      "2024-06-10 13:24:17,614:INFO:matchms:interpret_pepmass:Removed pepmass, since the information was added to other fields\n",
      "2024-06-10 13:24:17,614:INFO:matchms:derive_adduct_from_name:Removed adduct ['M-H'] from compound name.\n",
      "2024-06-10 13:24:17,614:INFO:matchms:derive_adduct_from_name:Added adduct [M-H]- from the compound name to metadata.\n",
      "2024-06-10 13:24:17,629:INFO:matchms:correct_charge:Changed sign of given charge: 1 to match negative ionmode\n",
      "2024-06-10 13:24:17,629:INFO:matchms:derive_inchikey_from_inchi:Added InChIKey PSOVNZZNOMJUBI-UHFFFAOYSA-N to metadata (was converted from inchi)\n",
      "2024-06-10 13:24:17,645:INFO:matchms:repair_adduct_based_on_parent_mass:Adduct was set from [M-H]- to [M-H]-\n",
      "2024-06-10 13:24:17,645:INFO:matchms:interpret_pepmass:Added precursor_mz entry based on field 'pepmass'.\n",
      "2024-06-10 13:24:17,645:INFO:matchms:interpret_pepmass:Removed pepmass, since the information was added to other fields\n",
      "2024-06-10 13:24:17,645:INFO:matchms:derive_adduct_from_name:Removed adduct ['M-H'] from compound name.\n",
      "2024-06-10 13:24:17,645:INFO:matchms:derive_adduct_from_name:Added adduct [M-H]- from the compound name to metadata.\n",
      "2024-06-10 13:24:17,660:INFO:matchms:correct_charge:Changed sign of given charge: 1 to match negative ionmode\n",
      "2024-06-10 13:24:17,660:INFO:matchms:derive_inchikey_from_inchi:Added InChIKey CNKHSLKYRMDDNQ-UHFFFAOYSA-N to metadata (was converted from inchi)\n",
      "2024-06-10 13:24:17,691:INFO:matchms:repair_adduct_based_on_parent_mass:Adduct was set from [M-H]- to [M-H]-\n",
      "2024-06-10 13:24:17,691:INFO:matchms:interpret_pepmass:Added precursor_mz entry based on field 'pepmass'.\n",
      "2024-06-10 13:24:17,691:INFO:matchms:interpret_pepmass:Removed pepmass, since the information was added to other fields\n",
      "2024-06-10 13:24:17,691:INFO:matchms:derive_adduct_from_name:Removed adduct ['M+Cl'] from compound name.\n",
      "2024-06-10 13:24:17,691:INFO:matchms:derive_adduct_from_name:Added adduct [M+Cl]- from the compound name to metadata.\n",
      "2024-06-10 13:24:17,706:INFO:matchms:correct_charge:Changed sign of given charge: 1 to match negative ionmode\n",
      "2024-06-10 13:24:17,717:INFO:matchms:derive_inchikey_from_inchi:Added InChIKey CNKHSLKYRMDDNQ-UHFFFAOYSA-N to metadata (was converted from inchi)\n",
      "2024-06-10 13:24:17,733:INFO:matchms:repair_adduct_based_on_parent_mass:Adduct was set from [M+Cl]- to [M+Cl]-\n",
      "2024-06-10 13:24:17,738:INFO:matchms:interpret_pepmass:Added precursor_mz entry based on field 'pepmass'.\n",
      "2024-06-10 13:24:17,738:INFO:matchms:interpret_pepmass:Removed pepmass, since the information was added to other fields\n",
      "2024-06-10 13:24:17,741:INFO:matchms:derive_adduct_from_name:Removed adduct ['M-H'] from compound name.\n",
      "2024-06-10 13:24:17,741:INFO:matchms:derive_adduct_from_name:Added adduct [M-H]- from the compound name to metadata.\n",
      "2024-06-10 13:24:17,746:INFO:matchms:correct_charge:Changed sign of given charge: 1 to match negative ionmode\n",
      "2024-06-10 13:24:17,756:INFO:matchms:derive_inchikey_from_inchi:Added InChIKey WYEMLYFITZORAB-UHFFFAOYSA-N to metadata (was converted from inchi)\n",
      "2024-06-10 13:24:17,764:INFO:matchms:require_matching_adduct_precursor_mz_parent_mass:Spectrum is removed because the adduct : [M-H]- and precursor_mz: 367.203 suggest a parent mass of 368.21027645209074, but parent mass 342.032668364 is given\n",
      "2024-06-10 13:24:17,764:INFO:matchms:interpret_pepmass:Added precursor_mz entry based on field 'pepmass'.\n",
      "2024-06-10 13:24:17,764:INFO:matchms:interpret_pepmass:Removed pepmass, since the information was added to other fields\n",
      "2024-06-10 13:24:17,764:INFO:matchms:derive_adduct_from_name:Removed adduct ['M-H'] from compound name.\n",
      "2024-06-10 13:24:17,764:INFO:matchms:derive_adduct_from_name:Added adduct [M-H]- from the compound name to metadata.\n",
      "2024-06-10 13:24:17,764:INFO:matchms:correct_charge:Changed sign of given charge: 1 to match negative ionmode\n",
      "2024-06-10 13:24:17,779:INFO:matchms:derive_inchikey_from_inchi:Added InChIKey MUJOIMFVNIBMKC-UHFFFAOYSA-N to metadata (was converted from inchi)\n",
      "2024-06-10 13:24:17,791:INFO:matchms:repair_adduct_based_on_parent_mass:Adduct was set from [M-H]- to [M-H]-\n",
      "2024-06-10 13:24:17,791:INFO:matchms:interpret_pepmass:Added precursor_mz entry based on field 'pepmass'.\n",
      "2024-06-10 13:24:17,791:INFO:matchms:interpret_pepmass:Removed pepmass, since the information was added to other fields\n",
      "2024-06-10 13:24:17,806:INFO:matchms:derive_adduct_from_name:Removed adduct ['M-H'] from compound name.\n",
      "2024-06-10 13:24:17,806:INFO:matchms:derive_adduct_from_name:Added adduct [M-H]- from the compound name to metadata.\n",
      "2024-06-10 13:24:17,806:INFO:matchms:correct_charge:Changed sign of given charge: 1 to match negative ionmode\n",
      "2024-06-10 13:24:17,817:INFO:matchms:derive_inchikey_from_inchi:Added InChIKey PTCGDEVVHUXTMP-UHFFFAOYSA-N to metadata (was converted from inchi)\n",
      "2024-06-10 13:24:17,835:INFO:matchms:repair_adduct_based_on_parent_mass:Adduct was set from [M-H]- to [M-H]-\n",
      "2024-06-10 13:24:17,840:INFO:matchms:interpret_pepmass:Added precursor_mz entry based on field 'pepmass'.\n",
      "2024-06-10 13:24:17,840:INFO:matchms:interpret_pepmass:Removed pepmass, since the information was added to other fields\n",
      "2024-06-10 13:24:17,842:INFO:matchms:derive_adduct_from_name:Removed adduct ['M+FA-H'] from compound name.\n",
      "2024-06-10 13:24:17,843:INFO:matchms:derive_adduct_from_name:Added adduct [M+FA-H]- from the compound name to metadata.\n",
      "2024-06-10 13:24:17,847:INFO:matchms:correct_charge:Changed sign of given charge: 1 to match negative ionmode\n",
      "2024-06-10 13:24:17,857:INFO:matchms:derive_inchikey_from_inchi:Added InChIKey QYPNKSZPJQQLRK-UHFFFAOYSA-N to metadata (was converted from inchi)\n",
      "2024-06-10 13:24:17,864:INFO:matchms:repair_adduct_based_on_parent_mass:Adduct was set from [M+FA-H]- to [M+FA-H]-\n",
      "2024-06-10 13:24:17,864:INFO:matchms:interpret_pepmass:Added precursor_mz entry based on field 'pepmass'.\n",
      "2024-06-10 13:24:17,864:INFO:matchms:interpret_pepmass:Removed pepmass, since the information was added to other fields\n",
      "2024-06-10 13:24:17,864:INFO:matchms:derive_adduct_from_name:Removed adduct ['M-H'] from compound name.\n",
      "2024-06-10 13:24:17,864:INFO:matchms:derive_adduct_from_name:Added adduct [M-H]- from the compound name to metadata.\n",
      "2024-06-10 13:24:17,879:INFO:matchms:correct_charge:Changed sign of given charge: 1 to match negative ionmode\n",
      "2024-06-10 13:24:17,891:INFO:matchms:derive_inchikey_from_inchi:Added InChIKey UZCGKGPEKUCDTF-UHFFFAOYSA-N to metadata (was converted from inchi)\n",
      "2024-06-10 13:24:17,891:INFO:matchms:repair_adduct_based_on_parent_mass:Adduct was set from [M-H]- to [M-H]-\n",
      "2024-06-10 13:24:17,907:INFO:matchms:interpret_pepmass:Added precursor_mz entry based on field 'pepmass'.\n",
      "2024-06-10 13:24:17,907:INFO:matchms:interpret_pepmass:Removed pepmass, since the information was added to other fields\n",
      "2024-06-10 13:24:17,907:INFO:matchms:derive_adduct_from_name:Removed adduct ['M-H'] from compound name.\n",
      "2024-06-10 13:24:17,907:INFO:matchms:derive_adduct_from_name:Added adduct [M-H]- from the compound name to metadata.\n",
      "2024-06-10 13:24:17,917:INFO:matchms:correct_charge:Changed sign of given charge: 1 to match negative ionmode\n",
      "2024-06-10 13:24:17,917:INFO:matchms:derive_inchikey_from_inchi:Added InChIKey IDQNBVFPZMCDDN-UHFFFAOYSA-N to metadata (was converted from inchi)\n",
      "2024-06-10 13:24:17,940:INFO:matchms:require_matching_adduct_precursor_mz_parent_mass:Spectrum is removed because the adduct : [M-H]- and precursor_mz: 341.026 suggest a parent mass of 342.0332764520908, but parent mass 123.07964728799999 is given\n",
      "2024-06-10 13:24:17,940:INFO:matchms:interpret_pepmass:Added precursor_mz entry based on field 'pepmass'.\n",
      "2024-06-10 13:24:17,940:INFO:matchms:interpret_pepmass:Removed pepmass, since the information was added to other fields\n",
      "2024-06-10 13:24:17,942:INFO:matchms:derive_adduct_from_name:Removed adduct ['M-H'] from compound name.\n",
      "2024-06-10 13:24:17,942:INFO:matchms:derive_adduct_from_name:Added adduct [M-H]- from the compound name to metadata.\n",
      "2024-06-10 13:24:17,947:INFO:matchms:correct_charge:Changed sign of given charge: 1 to match negative ionmode\n",
      "2024-06-10 13:24:17,958:INFO:matchms:derive_inchikey_from_inchi:Added InChIKey MIFOMMKAVSCNKQ-QNKGDIEWSA-N to metadata (was converted from inchi)\n",
      "2024-06-10 13:24:17,964:INFO:matchms:repair_adduct_based_on_parent_mass:Adduct was set from [M-H]- to [M-H]-\n",
      "2024-06-10 13:24:17,964:INFO:matchms:interpret_pepmass:Added precursor_mz entry based on field 'pepmass'.\n",
      "2024-06-10 13:24:17,964:INFO:matchms:interpret_pepmass:Removed pepmass, since the information was added to other fields\n",
      "2024-06-10 13:24:17,979:INFO:matchms:derive_adduct_from_name:Removed adduct ['M-H'] from compound name.\n",
      "2024-06-10 13:24:17,979:INFO:matchms:derive_adduct_from_name:Added adduct [M-H]- from the compound name to metadata.\n",
      "2024-06-10 13:24:17,979:INFO:matchms:correct_charge:Changed sign of given charge: 1 to match negative ionmode\n",
      "2024-06-10 13:24:17,991:INFO:matchms:derive_inchikey_from_inchi:Added InChIKey WYEMLYFITZORAB-UHFFFAOYSA-N to metadata (was converted from inchi)\n",
      "2024-06-10 13:24:17,999:INFO:matchms:require_matching_adduct_precursor_mz_parent_mass:Spectrum is removed because the adduct : [M-H]- and precursor_mz: 367.203 suggest a parent mass of 368.21027645209074, but parent mass 342.032668364 is given\n",
      "2024-06-10 13:24:17,999:INFO:matchms:interpret_pepmass:Added precursor_mz entry based on field 'pepmass'.\n",
      "2024-06-10 13:24:17,999:INFO:matchms:interpret_pepmass:Removed pepmass, since the information was added to other fields\n",
      "2024-06-10 13:24:17,999:INFO:matchms:derive_adduct_from_name:Removed adduct ['M+Cl'] from compound name.\n",
      "2024-06-10 13:24:17,999:INFO:matchms:derive_adduct_from_name:Added adduct [M+Cl]- from the compound name to metadata.\n",
      "2024-06-10 13:24:18,017:INFO:matchms:correct_charge:Changed sign of given charge: 1 to match negative ionmode\n",
      "2024-06-10 13:24:18,033:INFO:matchms:derive_inchikey_from_inchi:Added InChIKey MIFOMMKAVSCNKQ-QNKGDIEWSA-N to metadata (was converted from inchi)\n",
      "2024-06-10 13:24:18,049:INFO:matchms:repair_adduct_based_on_parent_mass:Adduct was set from [M+Cl]- to [M+Cl]-\n",
      "2024-06-10 13:24:18,049:INFO:matchms:interpret_pepmass:Added precursor_mz entry based on field 'pepmass'.\n",
      "2024-06-10 13:24:18,049:INFO:matchms:interpret_pepmass:Removed pepmass, since the information was added to other fields\n",
      "2024-06-10 13:24:18,049:INFO:matchms:derive_adduct_from_name:Removed adduct ['M-H'] from compound name.\n",
      "2024-06-10 13:24:18,049:INFO:matchms:derive_adduct_from_name:Added adduct [M-H]- from the compound name to metadata.\n",
      "2024-06-10 13:24:18,065:INFO:matchms:correct_charge:Changed sign of given charge: 1 to match negative ionmode\n",
      "2024-06-10 13:24:18,069:INFO:matchms:derive_inchikey_from_inchi:Added InChIKey WURBVZBTWMNKQT-UHFFFAOYSA-N to metadata (was converted from inchi)\n",
      "2024-06-10 13:24:18,091:INFO:matchms:require_matching_adduct_precursor_mz_parent_mass:Spectrum is removed because the adduct : [M-H]- and precursor_mz: 300.057 suggest a parent mass of 301.0642764520908, but parent mass 293.093104432 is given\n",
      "2024-06-10 13:24:18,091:INFO:matchms:interpret_pepmass:Added precursor_mz entry based on field 'pepmass'.\n",
      "2024-06-10 13:24:18,091:INFO:matchms:interpret_pepmass:Removed pepmass, since the information was added to other fields\n",
      "2024-06-10 13:24:18,097:INFO:matchms:derive_adduct_from_name:Removed adduct ['M+FA-H'] from compound name.\n",
      "2024-06-10 13:24:18,098:INFO:matchms:derive_adduct_from_name:Added adduct [M+FA-H]- from the compound name to metadata.\n",
      "2024-06-10 13:24:18,100:INFO:matchms:correct_charge:Changed sign of given charge: 1 to match negative ionmode\n",
      "2024-06-10 13:24:18,117:INFO:matchms:derive_inchikey_from_inchi:Added InChIKey MIFOMMKAVSCNKQ-QNKGDIEWSA-N to metadata (was converted from inchi)\n",
      "2024-06-10 13:24:18,134:INFO:matchms:repair_adduct_based_on_parent_mass:Adduct was set from [M+FA-H]- to [M+FA-H]-\n",
      "2024-06-10 13:24:18,134:INFO:matchms:interpret_pepmass:Added precursor_mz entry based on field 'pepmass'.\n",
      "2024-06-10 13:24:18,134:INFO:matchms:interpret_pepmass:Removed pepmass, since the information was added to other fields\n",
      "2024-06-10 13:24:18,134:INFO:matchms:derive_adduct_from_name:Removed adduct ['M+FA-H'] from compound name.\n",
      "2024-06-10 13:24:18,134:INFO:matchms:derive_adduct_from_name:Added adduct [M+FA-H]- from the compound name to metadata.\n",
      "2024-06-10 13:24:18,148:INFO:matchms:correct_charge:Changed sign of given charge: 1 to match negative ionmode\n",
      "2024-06-10 13:24:18,150:INFO:matchms:derive_inchikey_from_inchi:Added InChIKey RRZXIRBKKLTSOM-XPNPUAGNSA-N to metadata (was converted from inchi)\n",
      "2024-06-10 13:24:18,183:INFO:matchms:repair_adduct_based_on_parent_mass:Adduct was set from [M+FA-H]- to [M+FA-H]-\n",
      "2024-06-10 13:24:18,191:INFO:matchms:interpret_pepmass:Added precursor_mz entry based on field 'pepmass'.\n",
      "2024-06-10 13:24:18,191:INFO:matchms:interpret_pepmass:Removed pepmass, since the information was added to other fields\n",
      "2024-06-10 13:24:18,191:INFO:matchms:derive_adduct_from_name:Removed adduct ['M-H'] from compound name.\n",
      "2024-06-10 13:24:18,191:INFO:matchms:derive_adduct_from_name:Added adduct [M-H]- from the compound name to metadata.\n",
      "2024-06-10 13:24:18,201:INFO:matchms:correct_charge:Changed sign of given charge: 1 to match negative ionmode\n",
      "2024-06-10 13:24:18,201:INFO:matchms:derive_inchikey_from_inchi:Added InChIKey QYPNKSZPJQQLRK-UHFFFAOYSA-N to metadata (was converted from inchi)\n",
      "2024-06-10 13:24:18,224:INFO:matchms:repair_adduct_based_on_parent_mass:Adduct was set from [M-H]- to [M-H]-\n",
      "2024-06-10 13:24:18,230:INFO:matchms:interpret_pepmass:Added precursor_mz entry based on field 'pepmass'.\n",
      "2024-06-10 13:24:18,230:INFO:matchms:interpret_pepmass:Removed pepmass, since the information was added to other fields\n",
      "2024-06-10 13:24:18,231:INFO:matchms:derive_adduct_from_name:Removed adduct ['M+FA-H'] from compound name.\n",
      "2024-06-10 13:24:18,232:INFO:matchms:derive_adduct_from_name:Added adduct [M+FA-H]- from the compound name to metadata.\n",
      "2024-06-10 13:24:18,236:INFO:matchms:correct_charge:Changed sign of given charge: 1 to match negative ionmode\n",
      "2024-06-10 13:24:18,249:INFO:matchms:derive_inchikey_from_inchi:Added InChIKey QLFZZSKTJWDQOS-LHBWCTOLSA-N to metadata (was converted from inchi)\n",
      "2024-06-10 13:24:18,264:INFO:matchms:repair_adduct_based_on_parent_mass:Adduct was set from [M+FA-H]- to [M+FA-H]-\n",
      "2024-06-10 13:24:18,264:INFO:matchms:interpret_pepmass:Added precursor_mz entry based on field 'pepmass'.\n",
      "2024-06-10 13:24:18,264:INFO:matchms:interpret_pepmass:Removed pepmass, since the information was added to other fields\n",
      "2024-06-10 13:24:18,264:INFO:matchms:derive_adduct_from_name:Removed adduct ['M+Cl'] from compound name.\n",
      "2024-06-10 13:24:18,264:INFO:matchms:derive_adduct_from_name:Added adduct [M+Cl]- from the compound name to metadata.\n",
      "2024-06-10 13:24:18,280:INFO:matchms:correct_charge:Changed sign of given charge: 1 to match negative ionmode\n",
      "2024-06-10 13:24:18,291:INFO:matchms:derive_inchikey_from_inchi:Added InChIKey QYPNKSZPJQQLRK-UHFFFAOYSA-N to metadata (was converted from inchi)\n",
      "2024-06-10 13:24:18,291:INFO:matchms:repair_adduct_based_on_parent_mass:Adduct was set from [M+Cl]- to [M+Cl]-\n",
      "2024-06-10 13:24:18,307:INFO:matchms:interpret_pepmass:Added precursor_mz entry based on field 'pepmass'.\n",
      "2024-06-10 13:24:18,307:INFO:matchms:interpret_pepmass:Removed pepmass, since the information was added to other fields\n",
      "2024-06-10 13:24:18,307:INFO:matchms:derive_adduct_from_name:Removed adduct ['M-H'] from compound name.\n",
      "2024-06-10 13:24:18,307:INFO:matchms:derive_adduct_from_name:Added adduct [M-H]- from the compound name to metadata.\n",
      "2024-06-10 13:24:18,316:INFO:matchms:correct_charge:Changed sign of given charge: 1 to match negative ionmode\n",
      "2024-06-10 13:24:18,331:INFO:matchms:derive_inchikey_from_inchi:Added InChIKey UZCGKGPEKUCDTF-UHFFFAOYSA-N to metadata (was converted from inchi)\n",
      "2024-06-10 13:24:18,344:INFO:matchms:repair_adduct_based_on_parent_mass:Adduct was set from [M-H]- to [M-H]-\n",
      "2024-06-10 13:24:18,350:INFO:matchms:interpret_pepmass:Added precursor_mz entry based on field 'pepmass'.\n",
      "2024-06-10 13:24:18,350:INFO:matchms:interpret_pepmass:Removed pepmass, since the information was added to other fields\n",
      "2024-06-10 13:24:18,352:INFO:matchms:derive_adduct_from_name:Removed adduct ['M+FA-H'] from compound name.\n",
      "2024-06-10 13:24:18,353:INFO:matchms:derive_adduct_from_name:Added adduct [M+FA-H]- from the compound name to metadata.\n",
      "2024-06-10 13:24:18,357:INFO:matchms:correct_charge:Changed sign of given charge: 1 to match negative ionmode\n",
      "2024-06-10 13:24:18,365:INFO:matchms:derive_inchikey_from_inchi:Added InChIKey AZSNMRSAGSSBNP-QXOSRRPNSA-N to metadata (was converted from inchi)\n",
      "2024-06-10 13:24:18,381:INFO:matchms:repair_adduct_based_on_parent_mass:Adduct was set from [M+FA-H]- to [M+FA-H]-\n",
      "2024-06-10 13:24:18,392:INFO:matchms:interpret_pepmass:Added precursor_mz entry based on field 'pepmass'.\n",
      "2024-06-10 13:24:18,392:INFO:matchms:interpret_pepmass:Removed pepmass, since the information was added to other fields\n",
      "2024-06-10 13:24:18,397:INFO:matchms:derive_adduct_from_name:Removed adduct ['M-H'] from compound name.\n",
      "2024-06-10 13:24:18,397:INFO:matchms:derive_adduct_from_name:Added adduct [M-H]- from the compound name to metadata.\n",
      "2024-06-10 13:24:18,398:INFO:matchms:correct_charge:Changed sign of given charge: 1 to match negative ionmode\n",
      "2024-06-10 13:24:18,414:INFO:matchms:derive_inchikey_from_inchi:Added InChIKey MIFOMMKAVSCNKQ-QNKGDIEWSA-N to metadata (was converted from inchi)\n",
      "2024-06-10 13:24:18,415:INFO:matchms:repair_adduct_based_on_parent_mass:Adduct was set from [M-H]- to [M-H]-\n",
      "2024-06-10 13:24:18,431:INFO:matchms:interpret_pepmass:Added precursor_mz entry based on field 'pepmass'.\n",
      "2024-06-10 13:24:18,431:INFO:matchms:interpret_pepmass:Removed pepmass, since the information was added to other fields\n",
      "2024-06-10 13:24:18,431:INFO:matchms:derive_adduct_from_name:Removed adduct ['M-H'] from compound name.\n",
      "2024-06-10 13:24:18,431:INFO:matchms:derive_adduct_from_name:Added adduct [M-H]- from the compound name to metadata.\n",
      "2024-06-10 13:24:18,441:INFO:matchms:correct_charge:Changed sign of given charge: 1 to match negative ionmode\n",
      "2024-06-10 13:24:18,450:INFO:matchms:derive_inchikey_from_inchi:Added InChIKey IQVNEKKDSLOHHK-FNCQTZNRSA-N to metadata (was converted from inchi)\n",
      "2024-06-10 13:24:18,472:INFO:matchms:repair_adduct_based_on_parent_mass:Adduct was set from [M-H]- to [M-H]-\n",
      "2024-06-10 13:24:18,477:INFO:matchms:interpret_pepmass:Added precursor_mz entry based on field 'pepmass'.\n",
      "2024-06-10 13:24:18,477:INFO:matchms:interpret_pepmass:Removed pepmass, since the information was added to other fields\n",
      "2024-06-10 13:24:18,479:INFO:matchms:derive_adduct_from_name:Removed adduct ['M+Cl'] from compound name.\n",
      "2024-06-10 13:24:18,479:INFO:matchms:derive_adduct_from_name:Added adduct [M+Cl]- from the compound name to metadata.\n",
      "2024-06-10 13:24:18,484:INFO:matchms:correct_charge:Changed sign of given charge: 1 to match negative ionmode\n",
      "2024-06-10 13:24:18,496:INFO:matchms:derive_inchikey_from_inchi:Added InChIKey MIFOMMKAVSCNKQ-QNKGDIEWSA-N to metadata (was converted from inchi)\n",
      "2024-06-10 13:24:18,497:INFO:matchms:repair_adduct_based_on_parent_mass:Adduct was set from [M+Cl]- to [M+Cl]-\n",
      "2024-06-10 13:24:18,515:INFO:matchms:interpret_pepmass:Added precursor_mz entry based on field 'pepmass'.\n",
      "2024-06-10 13:24:18,515:INFO:matchms:interpret_pepmass:Removed pepmass, since the information was added to other fields\n",
      "2024-06-10 13:24:18,515:INFO:matchms:derive_adduct_from_name:Removed adduct ['M-H'] from compound name.\n",
      "2024-06-10 13:24:18,515:INFO:matchms:derive_adduct_from_name:Added adduct [M-H]- from the compound name to metadata.\n",
      "2024-06-10 13:24:18,515:INFO:matchms:correct_charge:Changed sign of given charge: 1 to match negative ionmode\n",
      "2024-06-10 13:24:18,531:INFO:matchms:derive_inchikey_from_inchi:Added InChIKey ZKWQQXZUCOBISE-ACFNXTENSA-N to metadata (was converted from inchi)\n",
      "2024-06-10 13:24:18,548:INFO:matchms:repair_adduct_based_on_parent_mass:Adduct was set from [M-H]- to [M-H]-\n",
      "2024-06-10 13:24:18,557:INFO:matchms:interpret_pepmass:Added precursor_mz entry based on field 'pepmass'.\n",
      "2024-06-10 13:24:18,557:INFO:matchms:interpret_pepmass:Removed pepmass, since the information was added to other fields\n",
      "2024-06-10 13:24:18,565:INFO:matchms:derive_adduct_from_name:Removed adduct ['M-H'] from compound name.\n",
      "2024-06-10 13:24:18,565:INFO:matchms:derive_adduct_from_name:Added adduct [M-H]- from the compound name to metadata.\n",
      "2024-06-10 13:24:18,567:INFO:matchms:correct_charge:Changed sign of given charge: 1 to match negative ionmode\n",
      "2024-06-10 13:24:18,585:INFO:matchms:derive_inchikey_from_inchi:Added InChIKey QLFZZSKTJWDQOS-LHBWCTOLSA-N to metadata (was converted from inchi)\n",
      "2024-06-10 13:24:18,598:INFO:matchms:repair_adduct_based_on_parent_mass:Adduct was set from [M-H]- to [M-H]-\n",
      "2024-06-10 13:24:18,598:INFO:matchms:interpret_pepmass:Added precursor_mz entry based on field 'pepmass'.\n",
      "2024-06-10 13:24:18,598:INFO:matchms:interpret_pepmass:Removed pepmass, since the information was added to other fields\n",
      "2024-06-10 13:24:18,598:INFO:matchms:derive_adduct_from_name:Removed adduct ['M+FA-H'] from compound name.\n",
      "2024-06-10 13:24:18,598:INFO:matchms:derive_adduct_from_name:Added adduct [M+FA-H]- from the compound name to metadata.\n",
      "2024-06-10 13:24:18,616:INFO:matchms:correct_charge:Changed sign of given charge: 1 to match negative ionmode\n",
      "2024-06-10 13:24:18,629:INFO:matchms:derive_inchikey_from_inchi:Added InChIKey QLFZZSKTJWDQOS-LHBWCTOLSA-N to metadata (was converted from inchi)\n",
      "2024-06-10 13:24:18,649:INFO:matchms:repair_adduct_based_on_parent_mass:Adduct was set from [M+FA-H]- to [M+FA-H]-\n",
      "2024-06-10 13:24:18,649:INFO:matchms:interpret_pepmass:Added precursor_mz entry based on field 'pepmass'.\n",
      "2024-06-10 13:24:18,649:INFO:matchms:interpret_pepmass:Removed pepmass, since the information was added to other fields\n",
      "2024-06-10 13:24:18,649:INFO:matchms:derive_adduct_from_name:Removed adduct ['M-H'] from compound name.\n",
      "2024-06-10 13:24:18,649:INFO:matchms:derive_adduct_from_name:Added adduct [M-H]- from the compound name to metadata.\n",
      "2024-06-10 13:24:18,658:INFO:matchms:correct_charge:Changed sign of given charge: 1 to match negative ionmode\n",
      "2024-06-10 13:24:18,667:INFO:matchms:derive_inchikey_from_inchi:Added InChIKey HFCYZXMHUIHAQI-UHFFFAOYSA-N to metadata (was converted from inchi)\n",
      "2024-06-10 13:24:18,684:INFO:matchms:repair_adduct_based_on_parent_mass:Adduct was set from [M-H]- to [M-H]-\n",
      "2024-06-10 13:24:18,693:INFO:matchms:interpret_pepmass:Added precursor_mz entry based on field 'pepmass'.\n",
      "2024-06-10 13:24:18,693:INFO:matchms:interpret_pepmass:Removed pepmass, since the information was added to other fields\n",
      "2024-06-10 13:24:18,693:INFO:matchms:derive_adduct_from_name:Removed adduct ['M+Cl'] from compound name.\n",
      "2024-06-10 13:24:18,697:INFO:matchms:derive_adduct_from_name:Added adduct [M+Cl]- from the compound name to metadata.\n",
      "2024-06-10 13:24:18,701:INFO:matchms:correct_charge:Changed sign of given charge: 1 to match negative ionmode\n",
      "2024-06-10 13:24:18,701:INFO:matchms:derive_inchikey_from_inchi:Added InChIKey HFCYZXMHUIHAQI-UHFFFAOYSA-N to metadata (was converted from inchi)\n",
      "2024-06-10 13:24:18,718:INFO:matchms:repair_adduct_based_on_parent_mass:Adduct was set from [M+Cl]- to [M+Cl]-\n",
      "2024-06-10 13:24:18,731:INFO:matchms:interpret_pepmass:Added precursor_mz entry based on field 'pepmass'.\n",
      "2024-06-10 13:24:18,731:INFO:matchms:interpret_pepmass:Removed pepmass, since the information was added to other fields\n",
      "2024-06-10 13:24:18,734:INFO:matchms:derive_adduct_from_name:Removed adduct ['M-H'] from compound name.\n",
      "2024-06-10 13:24:18,734:INFO:matchms:derive_adduct_from_name:Added adduct [M-H]- from the compound name to metadata.\n",
      "2024-06-10 13:24:18,734:INFO:matchms:correct_charge:Changed sign of given charge: 1 to match negative ionmode\n",
      "2024-06-10 13:24:18,750:INFO:matchms:derive_inchi_from_smiles:Added InChI (InChI=1S/C12H14N4O4S2/c1-19-11(17)15-9(21)13-7-5-3-4-6-8(7)14-10(22)16-12(18)20-2/h3-6H,1-2H3,(H2,13,15,17,21)(H2,14,16,18,22)) to metadata (was converted from smiles).\n",
      "2024-06-10 13:24:18,750:INFO:matchms:derive_inchikey_from_inchi:Added InChIKey QGHREAKMXXNCOA-UHFFFAOYSA-N to metadata (was converted from inchi)\n",
      "2024-06-10 13:24:18,766:INFO:matchms:repair_adduct_based_on_parent_mass:Adduct was set from [M-H]- to [M-H]-\n",
      "2024-06-10 13:24:18,768:INFO:matchms:interpret_pepmass:Added precursor_mz entry based on field 'pepmass'.\n",
      "2024-06-10 13:24:18,768:INFO:matchms:interpret_pepmass:Removed pepmass, since the information was added to other fields\n",
      "2024-06-10 13:24:18,768:INFO:matchms:derive_adduct_from_name:Removed adduct ['M-H'] from compound name.\n",
      "2024-06-10 13:24:18,768:INFO:matchms:derive_adduct_from_name:Added adduct [M-H]- from the compound name to metadata.\n",
      "2024-06-10 13:24:18,768:INFO:matchms:correct_charge:Changed sign of given charge: 1 to match negative ionmode\n",
      "2024-06-10 13:24:18,793:INFO:matchms:derive_inchikey_from_inchi:Added InChIKey IQVNEKKDSLOHHK-FNCQTZNRSA-N to metadata (was converted from inchi)\n",
      "2024-06-10 13:24:18,800:INFO:matchms:repair_adduct_based_on_parent_mass:Adduct was set from [M-H]- to [M-H]-\n",
      "2024-06-10 13:24:18,817:INFO:matchms:interpret_pepmass:Added precursor_mz entry based on field 'pepmass'.\n",
      "2024-06-10 13:24:18,817:INFO:matchms:interpret_pepmass:Removed pepmass, since the information was added to other fields\n",
      "2024-06-10 13:24:18,817:INFO:matchms:derive_adduct_from_name:Removed adduct ['M+Cl'] from compound name.\n",
      "2024-06-10 13:24:18,817:INFO:matchms:derive_adduct_from_name:Added adduct [M+Cl]- from the compound name to metadata.\n",
      "2024-06-10 13:24:18,817:INFO:matchms:correct_charge:Changed sign of given charge: 1 to match negative ionmode\n",
      "2024-06-10 13:24:18,834:INFO:matchms:derive_inchikey_from_inchi:Added InChIKey IQVNEKKDSLOHHK-FNCQTZNRSA-N to metadata (was converted from inchi)\n",
      "2024-06-10 13:24:18,858:INFO:matchms:repair_adduct_based_on_parent_mass:Adduct was set from [M+Cl]- to [M+Cl]-\n",
      "2024-06-10 13:24:18,864:INFO:matchms:interpret_pepmass:Added precursor_mz entry based on field 'pepmass'.\n",
      "2024-06-10 13:24:18,864:INFO:matchms:interpret_pepmass:Removed pepmass, since the information was added to other fields\n",
      "2024-06-10 13:24:18,866:INFO:matchms:derive_adduct_from_name:Removed adduct ['M-H'] from compound name.\n",
      "2024-06-10 13:24:18,866:INFO:matchms:derive_adduct_from_name:Added adduct [M-H]- from the compound name to metadata.\n",
      "2024-06-10 13:24:18,871:INFO:matchms:correct_charge:Changed sign of given charge: 1 to match negative ionmode\n",
      "2024-06-10 13:24:18,881:INFO:matchms:derive_inchikey_from_inchi:Added InChIKey PGOOBECODWQEAB-UHFFFAOYSA-N to metadata (was converted from inchi)\n",
      "2024-06-10 13:24:18,881:INFO:matchms:repair_adduct_based_on_parent_mass:Adduct was set from [M-H]- to [M-H]-\n",
      "2024-06-10 13:24:18,898:INFO:matchms:interpret_pepmass:Added precursor_mz entry based on field 'pepmass'.\n",
      "2024-06-10 13:24:18,898:INFO:matchms:interpret_pepmass:Removed pepmass, since the information was added to other fields\n",
      "2024-06-10 13:24:18,898:INFO:matchms:derive_adduct_from_name:Removed adduct ['M-H'] from compound name.\n",
      "2024-06-10 13:24:18,898:INFO:matchms:derive_adduct_from_name:Added adduct [M-H]- from the compound name to metadata.\n",
      "2024-06-10 13:24:18,898:INFO:matchms:correct_charge:Changed sign of given charge: 1 to match negative ionmode\n",
      "2024-06-10 13:24:18,915:INFO:matchms:derive_inchikey_from_inchi:Added InChIKey OORLZFUTLGXMEF-UHFFFAOYSA-N to metadata (was converted from inchi)\n",
      "2024-06-10 13:24:18,915:INFO:matchms:repair_adduct_based_on_parent_mass:Adduct was set from [M-H]- to [M-H]-\n",
      "2024-06-10 13:24:18,932:INFO:matchms:interpret_pepmass:Added precursor_mz entry based on field 'pepmass'.\n",
      "2024-06-10 13:24:18,932:INFO:matchms:interpret_pepmass:Removed pepmass, since the information was added to other fields\n",
      "2024-06-10 13:24:18,932:INFO:matchms:derive_adduct_from_name:Removed adduct ['M-H'] from compound name.\n",
      "2024-06-10 13:24:18,932:INFO:matchms:derive_adduct_from_name:Added adduct [M-H]- from the compound name to metadata.\n",
      "2024-06-10 13:24:18,932:INFO:matchms:correct_charge:Changed sign of given charge: 1 to match negative ionmode\n",
      "2024-06-10 13:24:18,950:INFO:matchms:derive_inchikey_from_inchi:Added InChIKey FNELVJVBIYMIMC-UHFFFAOYSA-N to metadata (was converted from inchi)\n",
      "2024-06-10 13:24:18,964:INFO:matchms:repair_adduct_based_on_parent_mass:Adduct was set from [M-H]- to [M-H]-\n",
      "2024-06-10 13:24:18,969:INFO:matchms:interpret_pepmass:Added precursor_mz entry based on field 'pepmass'.\n",
      "2024-06-10 13:24:18,970:INFO:matchms:interpret_pepmass:Removed pepmass, since the information was added to other fields\n",
      "2024-06-10 13:24:18,972:INFO:matchms:derive_adduct_from_name:Removed adduct ['M+Cl'] from compound name.\n",
      "2024-06-10 13:24:18,972:INFO:matchms:derive_adduct_from_name:Added adduct [M+Cl]- from the compound name to metadata.\n",
      "2024-06-10 13:24:18,976:INFO:matchms:correct_charge:Changed sign of given charge: 1 to match negative ionmode\n",
      "2024-06-10 13:24:18,987:INFO:matchms:derive_inchikey_from_inchi:Added InChIKey FNELVJVBIYMIMC-UHFFFAOYSA-N to metadata (was converted from inchi)\n",
      "2024-06-10 13:24:18,998:INFO:matchms:repair_adduct_based_on_parent_mass:Adduct was set from [M+Cl]- to [M+Cl]-\n",
      "2024-06-10 13:24:18,998:INFO:matchms:interpret_pepmass:Added precursor_mz entry based on field 'pepmass'.\n",
      "2024-06-10 13:24:18,998:INFO:matchms:interpret_pepmass:Removed pepmass, since the information was added to other fields\n",
      "2024-06-10 13:24:18,998:INFO:matchms:derive_adduct_from_name:Removed adduct ['M-H'] from compound name.\n",
      "2024-06-10 13:24:18,998:INFO:matchms:derive_adduct_from_name:Added adduct [M-H]- from the compound name to metadata.\n",
      "2024-06-10 13:24:18,998:INFO:matchms:correct_charge:Changed sign of given charge: 1 to match negative ionmode\n",
      "2024-06-10 13:24:19,015:INFO:matchms:derive_inchikey_from_inchi:Added InChIKey ZOCSXAVNDGMNBV-UHFFFAOYSA-N to metadata (was converted from inchi)\n",
      "2024-06-10 13:24:19,031:INFO:matchms:repair_adduct_based_on_parent_mass:Adduct was set from [M-H]- to [M-H]-\n",
      "2024-06-10 13:24:19,031:INFO:matchms:interpret_pepmass:Added precursor_mz entry based on field 'pepmass'.\n",
      "2024-06-10 13:24:19,031:INFO:matchms:interpret_pepmass:Removed pepmass, since the information was added to other fields\n",
      "2024-06-10 13:24:19,031:INFO:matchms:derive_adduct_from_name:Removed adduct ['M-H'] from compound name.\n",
      "2024-06-10 13:24:19,031:INFO:matchms:derive_adduct_from_name:Added adduct [M-H]- from the compound name to metadata.\n",
      "2024-06-10 13:24:19,047:INFO:matchms:correct_charge:Changed sign of given charge: 1 to match negative ionmode\n",
      "2024-06-10 13:24:19,065:INFO:matchms:derive_inchikey_from_inchi:Added InChIKey YXKMMRDKEKCERS-UHFFFAOYSA-N to metadata (was converted from inchi)\n",
      "2024-06-10 13:24:19,087:INFO:matchms:require_matching_adduct_precursor_mz_parent_mass:Spectrum is removed because the adduct : [M-H]- and precursor_mz: 681.016 suggest a parent mass of 682.0232764520907, but parent mass 324.04477433600005 is given\n",
      "2024-06-10 13:24:19,088:INFO:matchms:interpret_pepmass:Added precursor_mz entry based on field 'pepmass'.\n",
      "2024-06-10 13:24:19,088:INFO:matchms:interpret_pepmass:Removed pepmass, since the information was added to other fields\n",
      "2024-06-10 13:24:19,091:INFO:matchms:derive_adduct_from_name:Removed adduct ['M+Cl'] from compound name.\n",
      "2024-06-10 13:24:19,091:INFO:matchms:derive_adduct_from_name:Added adduct [M+Cl]- from the compound name to metadata.\n",
      "2024-06-10 13:24:19,096:INFO:matchms:correct_charge:Changed sign of given charge: 1 to match negative ionmode\n",
      "2024-06-10 13:24:19,097:INFO:matchms:derive_inchikey_from_inchi:Added InChIKey YXKMMRDKEKCERS-UHFFFAOYSA-N to metadata (was converted from inchi)\n",
      "2024-06-10 13:24:19,113:INFO:matchms:require_matching_adduct_precursor_mz_parent_mass:Spectrum is removed because the adduct : [M+Cl]- and precursor_mz: 716.992 suggest a parent mass of 682.0225987400908, but parent mass 324.04477433600005 is given\n",
      "2024-06-10 13:24:19,113:INFO:matchms:interpret_pepmass:Added precursor_mz entry based on field 'pepmass'.\n",
      "2024-06-10 13:24:19,113:INFO:matchms:interpret_pepmass:Removed pepmass, since the information was added to other fields\n",
      "2024-06-10 13:24:19,113:INFO:matchms:derive_adduct_from_name:Removed adduct ['M-H'] from compound name.\n",
      "2024-06-10 13:24:19,113:INFO:matchms:derive_adduct_from_name:Added adduct [M-H]- from the compound name to metadata.\n",
      "2024-06-10 13:24:19,113:INFO:matchms:correct_charge:Changed sign of given charge: 1 to match negative ionmode\n",
      "2024-06-10 13:24:19,131:INFO:matchms:derive_inchikey_from_inchi:Added InChIKey MNHVNIJQQRJYDH-UHFFFAOYSA-N to metadata (was converted from inchi)\n",
      "2024-06-10 13:24:19,151:INFO:matchms:repair_adduct_based_on_parent_mass:Adduct was set from [M-H]- to [M-H]-\n",
      "----- Spectrum Processing Report -----\n",
      "Number of spectrums processed: 76\n",
      "Number of spectrums removed: 8\n",
      "Changes during processing:\n",
      "                                                  removed spectra  changed metadata  changed mass spectrum\n",
      "filter                                                                                                    \n",
      "require_matching_adduct_precursor_mz_parent_mass                8                 0                      0\n",
      "derive_adduct_from_name                                         0                76                      0\n",
      "add_retention_index                                             0                76                      0\n",
      "add_retention_time                                              0                76                      0\n",
      "correct_charge                                                  0                76                      0\n",
      "harmonize_undefined_inchikey                                    0                76                      0\n",
      "add_parent_mass                                                 0                76                      0\n",
      "derive_inchikey_from_inchi                                      0                76                      0\n",
      "harmonize_undefined_inchi                                       0                 3                      0\n",
      "derive_inchi_from_smiles                                        0                 3                      0\n",
      "clean_adduct                                                    0                 1                      0\n",
      "repair_parent_mass_from_smiles                                  0                 9                      0\n",
      "repair_adduct_based_on_parent_mass                              0                 1                      0\n",
      "normalize_intensities                                           0                 0                     68\n",
      "require_correct_ms_level                                        0                 0                      0\n",
      "make_charge_int                                                 0                 0                      0\n",
      "add_compound_name                                               0                 0                      0\n",
      "derive_formula_from_name                                        0                 0                      0\n",
      "clean_compound_name                                             0                 0                      0\n",
      "interpret_pepmass                                               0                 0                      0\n",
      "add_precursor_mz                                                0                 0                      0\n",
      "derive_ionmode                                                  0                 0                      0\n",
      "require_precursor_mz                                            0                 0                      0\n",
      "harmonize_undefined_smiles                                      0                 0                      0\n",
      "repair_inchi_inchikey_smiles                                    0                 0                      0\n",
      "derive_annotation_from_compound_name                            0                 0                      0\n",
      "derive_smiles_from_inchi                                        0                 0                      0\n",
      "repair_smiles_of_salts                                          0                 0                      0\n",
      "repair_parent_mass_is_molar_mass                                0                 0                      0\n",
      "repair_not_matching_annotation                                  0                 0                      0\n",
      "require_valid_annotation                                        0                 0                      0\n",
      "require_correct_ionmode                                         0                 0                      0\n",
      "require_parent_mass_match_smiles                                0                 0                      0\n",
      "require_matching_adduct_and_ionmode                             0                 0                      0\n",
      "--- Computing scores ---\n",
      "--- Pipeline run finised (2024-06-10 13:24:19.190807) ---\n",
      "\n"
     ]
    }
   ],
   "source": [
    "with open(\"../data/matchms_cleaning.log\", \"r\") as yaml_file:\n",
    "    print(yaml_file.read())"
   ]
  },
  {
   "cell_type": "markdown",
   "id": "50736c80-cc70-4564-82d4-0a87390beae3",
   "metadata": {},
   "source": [
    "## Order of filters\n",
    "Filters are automatically ordered by matchms. This is important since some filters depend on other filters being run first. For instance derive_adduct_from_name, should be run before require_matching_adduct_and_ionmode. With many filters it can become quite complex to correctly order all filters. "
   ]
  },
  {
   "cell_type": "code",
   "execution_count": 79,
   "id": "8c50f2c1-fc4c-4093-b836-bcf7e59b2595",
   "metadata": {},
   "outputs": [
    {
     "name": "stdout",
     "output_type": "stream",
     "text": [
      "2024-06-10 13:40:29,295:WARNING:matchms:Pipeline:The order of the filters has been changed compared to the Yaml file.\n",
      "2024-06-10 13:40:29,295:WARNING:matchms:Pipeline:The order of the filters has been changed compared to the Yaml file.\n"
     ]
    },
    {
     "data": {
      "text/plain": [
       "[('derive_adduct_from_name', {'remove_adduct_from_name': True}),\n",
       " 'require_matching_adduct_and_ionmode']"
      ]
     },
     "execution_count": 79,
     "metadata": {},
     "output_type": "execute_result"
    }
   ],
   "source": [
    "import os\n",
    "from matchms.Pipeline import Pipeline, create_workflow\n",
    "import matchms.filtering as msfilters\n",
    "workflow = create_workflow(\n",
    "    query_filters=[msfilters.require_matching_adduct_and_ionmode,\n",
    "                   msfilters.derive_adduct_from_name,\n",
    "                   ])\n",
    "pipeline = Pipeline(workflow)\n",
    "pipeline.processing_queries.processing_steps"
   ]
  },
  {
   "cell_type": "markdown",
   "id": "d5307555-65c4-4f30-9f81-2dea777fcf13",
   "metadata": {},
   "source": [
    "As you can see derive_adduct_from_name is placed before require_matching_adduct_and_ionmode"
   ]
  },
  {
   "cell_type": "markdown",
   "id": "55baef44-85b4-4e9e-8143-990a2c429fc8",
   "metadata": {},
   "source": [
    "To add filters at a specific location or override the default filter order of matchms, you can specify the filter_position to add the filter at a specific location."
   ]
  },
  {
   "cell_type": "code",
   "execution_count": 83,
   "id": "f54f916e-94e2-4291-9935-6c0a6af5f321",
   "metadata": {},
   "outputs": [
    {
     "name": "stdout",
     "output_type": "stream",
     "text": [
      "2024-06-10 13:44:45,533:WARNING:matchms:Pipeline:The order of the filters has been changed compared to the Yaml file.\n",
      "2024-06-10 13:44:45,534:WARNING:matchms:Pipeline:The order of the filters has been changed compared to the Yaml file.\n"
     ]
    },
    {
     "data": {
      "text/plain": [
       "['require_matching_adduct_and_ionmode',\n",
       " ('derive_adduct_from_name', {'remove_adduct_from_name': True})]"
      ]
     },
     "execution_count": 83,
     "metadata": {},
     "output_type": "execute_result"
    }
   ],
   "source": [
    "import os\n",
    "from matchms.Pipeline import Pipeline, create_workflow\n",
    "import matchms.filtering as msfilters\n",
    "workflow = create_workflow(\n",
    "    query_filters=[\n",
    "                   msfilters.derive_adduct_from_name,\n",
    "                   ])\n",
    "pipeline = Pipeline(workflow)\n",
    "\n",
    "pipeline.processing_queries.parse_and_add_filter(msfilters.require_matching_adduct_and_ionmode, filter_position=0)\n",
    "pipeline.processing_queries.processing_steps\n"
   ]
  },
  {
   "cell_type": "markdown",
   "id": "6d078167-d0bd-4acc-ad88-1008294bf3fd",
   "metadata": {},
   "source": [
    "## Further questions\n",
    "If something is unclear, or if you want new functionality in matchms, please make an issue at [https://github.com/matchms/matchms/issues] or become a co-developer by forking matchms and creating new Pull Requests."
   ]
  }
 ],
 "metadata": {
  "kernelspec": {
   "display_name": "Python 3 (ipykernel)",
   "language": "python",
   "name": "python3"
  },
  "language_info": {
   "codemirror_mode": {
    "name": "ipython",
    "version": 3
   },
   "file_extension": ".py",
   "mimetype": "text/x-python",
   "name": "python",
   "nbconvert_exporter": "python",
   "pygments_lexer": "ipython3",
   "version": "3.8.17"
  }
 },
 "nbformat": 4,
 "nbformat_minor": 5
}
